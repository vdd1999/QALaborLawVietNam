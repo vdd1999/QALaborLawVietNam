{
  "cells": [
    {
      "cell_type": "code",
      "execution_count": null,
      "metadata": {
        "colab": {
          "base_uri": "https://localhost:8080/"
        },
        "id": "5_y-T9UF9wpc",
        "outputId": "7ddd9e07-5055-419f-888e-31d79d9dc013"
      },
      "outputs": [
        {
          "name": "stdout",
          "output_type": "stream",
          "text": [
            "Collecting underthesea\n",
            "  Downloading underthesea-6.8.3-py3-none-any.whl (20.9 MB)\n",
            "\u001b[2K     \u001b[90m━━━━━━━━━━━━━━━━━━━━━━━━━━━━━━━━━━━━━━━━\u001b[0m \u001b[32m20.9/20.9 MB\u001b[0m \u001b[31m60.5 MB/s\u001b[0m eta \u001b[36m0:00:00\u001b[0m\n",
            "\u001b[?25hRequirement already satisfied: Click>=6.0 in /usr/local/lib/python3.10/dist-packages (from underthesea) (8.1.7)\n",
            "Collecting python-crfsuite>=0.9.6 (from underthesea)\n",
            "  Downloading python_crfsuite-0.9.10-cp310-cp310-manylinux_2_17_x86_64.manylinux2014_x86_64.whl (1.1 MB)\n",
            "\u001b[2K     \u001b[90m━━━━━━━━━━━━━━━━━━━━━━━━━━━━━━━━━━━━━━━━\u001b[0m \u001b[32m1.1/1.1 MB\u001b[0m \u001b[31m61.8 MB/s\u001b[0m eta \u001b[36m0:00:00\u001b[0m\n",
            "\u001b[?25hRequirement already satisfied: nltk in /usr/local/lib/python3.10/dist-packages (from underthesea) (3.8.1)\n",
            "Requirement already satisfied: tqdm in /usr/local/lib/python3.10/dist-packages (from underthesea) (4.66.4)\n",
            "Requirement already satisfied: requests in /usr/local/lib/python3.10/dist-packages (from underthesea) (2.31.0)\n",
            "Requirement already satisfied: joblib in /usr/local/lib/python3.10/dist-packages (from underthesea) (1.4.2)\n",
            "Requirement already satisfied: scikit-learn in /usr/local/lib/python3.10/dist-packages (from underthesea) (1.2.2)\n",
            "Requirement already satisfied: PyYAML in /usr/local/lib/python3.10/dist-packages (from underthesea) (6.0.1)\n",
            "Collecting underthesea-core==1.0.4 (from underthesea)\n",
            "  Downloading underthesea_core-1.0.4-cp310-cp310-manylinux2010_x86_64.whl (657 kB)\n",
            "\u001b[2K     \u001b[90m━━━━━━━━━━━━━━━━━━━━━━━━━━━━━━━━━━━━━━━━\u001b[0m \u001b[32m657.8/657.8 kB\u001b[0m \u001b[31m50.3 MB/s\u001b[0m eta \u001b[36m0:00:00\u001b[0m\n",
            "\u001b[?25hRequirement already satisfied: regex>=2021.8.3 in /usr/local/lib/python3.10/dist-packages (from nltk->underthesea) (2024.5.15)\n",
            "Requirement already satisfied: charset-normalizer<4,>=2 in /usr/local/lib/python3.10/dist-packages (from requests->underthesea) (3.3.2)\n",
            "Requirement already satisfied: idna<4,>=2.5 in /usr/local/lib/python3.10/dist-packages (from requests->underthesea) (3.7)\n",
            "Requirement already satisfied: urllib3<3,>=1.21.1 in /usr/local/lib/python3.10/dist-packages (from requests->underthesea) (2.0.7)\n",
            "Requirement already satisfied: certifi>=2017.4.17 in /usr/local/lib/python3.10/dist-packages (from requests->underthesea) (2024.6.2)\n",
            "Requirement already satisfied: numpy>=1.17.3 in /usr/local/lib/python3.10/dist-packages (from scikit-learn->underthesea) (1.25.2)\n",
            "Requirement already satisfied: scipy>=1.3.2 in /usr/local/lib/python3.10/dist-packages (from scikit-learn->underthesea) (1.11.4)\n",
            "Requirement already satisfied: threadpoolctl>=2.0.0 in /usr/local/lib/python3.10/dist-packages (from scikit-learn->underthesea) (3.5.0)\n",
            "Installing collected packages: underthesea-core, python-crfsuite, underthesea\n",
            "Successfully installed python-crfsuite-0.9.10 underthesea-6.8.3 underthesea-core-1.0.4\n"
          ]
        }
      ],
      "source": [
        "pip install underthesea"
      ]
    },
    {
      "cell_type": "code",
      "execution_count": null,
      "metadata": {
        "colab": {
          "base_uri": "https://localhost:8080/"
        },
        "id": "xj2v6oKkJlcR",
        "outputId": "0f6156fc-7b37-4e7f-9195-4f8f1bccaa04"
      },
      "outputs": [
        {
          "name": "stdout",
          "output_type": "stream",
          "text": [
            "No module named 'fasttext'\n"
          ]
        }
      ],
      "source": [
        "import json\n",
        "import os\n",
        "import re\n",
        "from underthesea import word_tokenize"
      ]
    },
    {
      "cell_type": "markdown",
      "metadata": {
        "id": "ahiia4dHP6Y0"
      },
      "source": [
        "# Mục mới"
      ]
    },
    {
      "cell_type": "code",
      "execution_count": null,
      "metadata": {
        "id": "W2jsndf23y3L"
      },
      "outputs": [],
      "source": [
        "def load_all_data(data_path):\n",
        "    all_data = []\n",
        "    for filename in os.listdir(data_path):\n",
        "        if filename.endswith('.json'):\n",
        "            file_path = os.path.join(data_path, filename)\n",
        "            with open(file_path, 'r', encoding='utf-8') as f:\n",
        "                data = json.load(f)\n",
        "                all_data.extend(data['data'])\n",
        "    return {'data': all_data}"
      ]
    },
    {
      "cell_type": "code",
      "execution_count": null,
      "metadata": {
        "id": "OkVGeltL31R3"
      },
      "outputs": [],
      "source": [
        "\n",
        "def clean_text(text):\n",
        "    text = re.sub(r'\\n', ' ', text)\n",
        "    text = re.sub(r'\\[\\d+\\]', '', text)\n",
        "    text = re.sub(r'[^\\w\\s]', '', text)\n",
        "    text = text.lower()\n",
        "    return text"
      ]
    },
    {
      "cell_type": "code",
      "execution_count": null,
      "metadata": {
        "id": "cySWbxOM6IwS"
      },
      "outputs": [],
      "source": [
        "def preprocess_data(data):\n",
        "    contexts = []\n",
        "    questions = []\n",
        "    answers = []\n",
        "    for article in data['data']:\n",
        "        for paragraph in article['paragraphs']:\n",
        "            context = clean_text(paragraph['context'])\n",
        "            for qa in paragraph['qas']:\n",
        "                question = clean_text(qa['question'])\n",
        "                is_impossible = qa.get('is_impossible', False)  #Do ngữ liệu nhiều chỗ define thiếu is_impossible nên sẽ mặc định là False\n",
        "                if not is_impossible:\n",
        "                    for answer in qa['answers']:\n",
        "                        answer_text = clean_text(answer['text'])\n",
        "                        answer_start = answer['answer_start']\n",
        "                        contexts.append(context)\n",
        "                        questions.append(question)\n",
        "                        answers.append({\n",
        "                            'text': answer_text,\n",
        "                            'start': answer_start\n",
        "                        })\n",
        "    return contexts, questions, answers"
      ]
    },
    {
      "cell_type": "code",
      "execution_count": null,
      "metadata": {
        "id": "pMIsG5kOKBRH"
      },
      "outputs": [],
      "source": [
        "def tokenize_texts(texts):\n",
        "    return [word_tokenize(text, format=\"text\") for text in texts]"
      ]
    },
    {
      "cell_type": "code",
      "execution_count": null,
      "metadata": {
        "id": "dyBQdxTZKDur"
      },
      "outputs": [],
      "source": [
        "data_path = '/content/data'\n",
        "squad_data = load_all_data(data_path)\n",
        "contexts, questions, answers = preprocess_data(squad_data)\n",
        "tokenized_contexts = tokenize_texts(contexts)\n",
        "tokenized_questions = tokenize_texts(questions)"
      ]
    },
    {
      "cell_type": "code",
      "execution_count": null,
      "metadata": {
        "id": "XWhsYV4ludIu"
      },
      "outputs": [],
      "source": [
        "tokenized_contexts"
      ]
    },
    {
      "cell_type": "code",
      "execution_count": null,
      "metadata": {
        "colab": {
          "base_uri": "https://localhost:8080/"
        },
        "id": "7XsvYGi49-Kq",
        "outputId": "2958fb7d-7a24-4c66-d870-7c6d3755ee09"
      },
      "outputs": [
        {
          "name": "stdout",
          "output_type": "stream",
          "text": [
            "Requirement already satisfied: gensim in /usr/local/lib/python3.10/dist-packages (4.3.2)\n",
            "Requirement already satisfied: numpy>=1.18.5 in /usr/local/lib/python3.10/dist-packages (from gensim) (1.25.2)\n",
            "Requirement already satisfied: scipy>=1.7.0 in /usr/local/lib/python3.10/dist-packages (from gensim) (1.11.4)\n",
            "Requirement already satisfied: smart-open>=1.8.1 in /usr/local/lib/python3.10/dist-packages (from gensim) (7.0.4)\n",
            "Requirement already satisfied: wrapt in /usr/local/lib/python3.10/dist-packages (from smart-open>=1.8.1->gensim) (1.14.1)\n"
          ]
        }
      ],
      "source": [
        "pip install gensim"
      ]
    },
    {
      "cell_type": "code",
      "execution_count": null,
      "metadata": {
        "id": "7MCniQGRRK93"
      },
      "outputs": [],
      "source": [
        "from gensim.models import Word2Vec\n",
        "from gensim.utils import simple_preprocess\n"
      ]
    },
    {
      "cell_type": "code",
      "execution_count": null,
      "metadata": {
        "id": "-yixwI9H4LVj"
      },
      "outputs": [],
      "source": [
        "# Tokenize ngữ liệu\n",
        "split_context_pre_train = [context.split() for context in tokenized_contexts]\n",
        "split_question_pre_train = [simple_preprocess(question) for question in tokenized_questions]"
      ]
    },
    {
      "cell_type": "code",
      "execution_count": null,
      "metadata": {
        "id": "V_FWej1tRTdZ"
      },
      "outputs": [],
      "source": [
        "# Tạo mô hình Word2Vec\n",
        "model_word2vec = Word2Vec(vector_size=100, window=10, min_count=1, sg=1, workers=4)"
      ]
    },
    {
      "cell_type": "code",
      "execution_count": null,
      "metadata": {
        "id": "WEMfTd3LtvKj"
      },
      "outputs": [],
      "source": [
        "# Xây dựng từ điển\n",
        "model_word2vec.build_vocab(split_question_pre_train)"
      ]
    },
    {
      "cell_type": "code",
      "execution_count": null,
      "metadata": {
        "colab": {
          "base_uri": "https://localhost:8080/"
        },
        "id": "60ATl10yu3NT",
        "outputId": "5beed313-327c-480e-f0e2-96533713bda8"
      },
      "outputs": [
        {
          "data": {
            "text/plain": [
              "(1651025, 3103200)"
            ]
          },
          "execution_count": 13,
          "metadata": {},
          "output_type": "execute_result"
        }
      ],
      "source": [
        "model_word2vec.train(split_question_pre_train, total_examples=model_word2vec.corpus_count, epochs=100)"
      ]
    },
    {
      "cell_type": "code",
      "execution_count": null,
      "metadata": {
        "id": "clbXlmB1RZEQ"
      },
      "outputs": [],
      "source": [
        "# Lưu mô hình Word2Vec đã huấn luyện\n",
        "model_word2vec.save(\"/content/word2vec.model\")"
      ]
    },
    {
      "cell_type": "code",
      "execution_count": null,
      "metadata": {
        "id": "4TZpB1Net7F4"
      },
      "outputs": [],
      "source": [
        "vector = model_word2vec.wv['chương']"
      ]
    },
    {
      "cell_type": "code",
      "execution_count": null,
      "metadata": {
        "id": "zRVMejiLvB6p"
      },
      "outputs": [],
      "source": [
        "vector"
      ]
    },
    {
      "cell_type": "code",
      "execution_count": null,
      "metadata": {
        "colab": {
          "base_uri": "https://localhost:8080/"
        },
        "id": "b5KLEP8vuACC",
        "outputId": "bc23b538-660b-4172-888a-4a168daf18a4"
      },
      "outputs": [
        {
          "name": "stdout",
          "output_type": "stream",
          "text": [
            "[('bộ_luật', 0.6755515933036804), ('chính', 0.6376974582672119), ('việt_nam', 0.5604852437973022), ('v', 0.5576168298721313), ('bao_gồm', 0.543369710445404)]\n"
          ]
        }
      ],
      "source": [
        "similarWord = model_word2vec.wv.most_similar('chương', topn=5)\n",
        "print(similarWord)"
      ]
    },
    {
      "cell_type": "code",
      "execution_count": null,
      "metadata": {
        "colab": {
          "base_uri": "https://localhost:8080/"
        },
        "id": "44KFa635Quug",
        "outputId": "4654f0ea-3c63-4abe-96c1-2de54a21a20a"
      },
      "outputs": [
        {
          "name": "stdout",
          "output_type": "stream",
          "text": [
            "Collecting rank_bm25\n",
            "  Downloading rank_bm25-0.2.2-py3-none-any.whl (8.6 kB)\n",
            "Requirement already satisfied: numpy in /usr/local/lib/python3.10/dist-packages (from rank_bm25) (1.25.2)\n",
            "Installing collected packages: rank_bm25\n",
            "Successfully installed rank_bm25-0.2.2\n"
          ]
        }
      ],
      "source": [
        "!pip install rank_bm25"
      ]
    },
    {
      "cell_type": "code",
      "execution_count": null,
      "metadata": {
        "id": "mLtaWHu6QamW"
      },
      "outputs": [],
      "source": [
        "from rank_bm25 import BM25Okapi\n",
        "\n",
        "# Tạo BM25 model\n",
        "bm25 = BM25Okapi(split_question_pre_train)"
      ]
    },
    {
      "cell_type": "code",
      "execution_count": null,
      "metadata": {
        "id": "IbJ89GUERWeJ"
      },
      "outputs": [],
      "source": [
        "questionBm25 = \"Lương ngoài giờ tính như thế nào\"\n",
        "tokenized_query = questionBm25.split(\" \")\n"
      ]
    },
    {
      "cell_type": "code",
      "execution_count": null,
      "metadata": {
        "id": "lWdSo9NhRbyT"
      },
      "outputs": [],
      "source": [
        "# Tính điểm số BM25\n",
        "bm25_scores = bm25.get_scores(tokenized_query)"
      ]
    },
    {
      "cell_type": "code",
      "execution_count": null,
      "metadata": {
        "colab": {
          "base_uri": "https://localhost:8080/"
        },
        "id": "NakdIXGUReaT",
        "outputId": "a63fef23-1088-4106-e9d7-e29ebe21590a"
      },
      "outputs": [
        {
          "name": "stdout",
          "output_type": "stream",
          "text": [
            "Câu hỏi người dùng: Lương ngoài giờ tính như thế nào\n",
            "Các câu hỏi có điểm số cao nhất:\n",
            "Điểm số: 11.3968 - Câu hỏi: ['thời_gian', 'làm_việc', 'ban_đêm', 'được', 'tính', 'từ', 'mấy', 'giờ', 'đến', 'mấy', 'giờ']\n",
            "Điểm số: 11.3861 - Câu hỏi: ['tiền_lương', 'làm', 'thêm', 'giờ', 'được', 'tính', 'như_thế_nào']\n",
            "Điểm số: 11.3861 - Câu hỏi: ['tiền_lương', 'làm', 'thêm', 'giờ', 'được', 'tính', 'như_thế_nào']\n",
            "Điểm số: 10.4546 - Câu hỏi: ['thời', 'giờ', 'làm_việc', 'được', 'tính', 'vào', 'thời_giờ', 'làm_việc', 'được', 'hưởng', 'lương', 'bao_gồm', 'những', 'khoảng', 'thời_gian', 'nào']\n",
            "Điểm số: 7.5303 - Câu hỏi: ['chương_trình', 'đào_tạo', 'nghề', 'có_thể', 'được', 'tổ_chức', 'ngoài', 'nước', 'không']\n",
            "Điểm số: 7.2347 - Câu hỏi: ['người', 'lao_động', 'có', 'quyền', 'tham_gia', 'các', 'khóa_học', 'ngoài', 'doanh_nghiệp', 'không']\n",
            "Điểm số: 7.0543 - Câu hỏi: ['lao_động', 'đặc_thù', 'có', 'quyền', 'từ_chối', 'làm', 'thêm', 'giờ', 'trong', 'trường_hợp', 'nào']\n",
            "Điểm số: 6.6262 - Câu hỏi: ['tiền_lương', 'ngừng', 'việc', 'được', 'tính', 'như_thế_nào']\n",
            "Điểm số: 6.6262 - Câu hỏi: ['tiền_lương', 'ngừng', 'việc', 'được', 'tính', 'như_thế_nào']\n",
            "Điểm số: 6.3314 - Câu hỏi: ['tiền_lương', 'làm_việc', 'vào', 'ban_đêm', 'được', 'tính', 'như_thế_nào']\n"
          ]
        }
      ],
      "source": [
        "import numpy as np\n",
        "\n",
        "# Xếp hạng các câu hỏi dựa trên điểm số\n",
        "top_n = np.argsort(bm25_scores)[::-1][:10]\n",
        "\n",
        "# Hiển thị các câu hỏi có điểm số cao nhất\n",
        "print(\"Câu hỏi người dùng:\", query)\n",
        "print(\"Các câu hỏi có điểm số cao nhất:\")\n",
        "for index in top_n:\n",
        "    print(f\"Điểm số: {bm25_scores[index]:.4f} - Câu hỏi: {split_question_pre_train[index]}\")\n"
      ]
    },
    {
      "cell_type": "code",
      "execution_count": null,
      "metadata": {
        "id": "6zsrbeG560Kv"
      },
      "outputs": [],
      "source": [
        "def get_avg_word2vec_vector(question):\n",
        "    words = simple_preprocess(question)\n",
        "    vector = np.mean([model_word2vec.wv[word] for word in words if word in model_word2vec.wv], axis=0)\n",
        "    return vector"
      ]
    },
    {
      "cell_type": "code",
      "execution_count": null,
      "metadata": {
        "id": "XV6GheqSOXfG"
      },
      "outputs": [],
      "source": [
        "def get_word2vec_scores(user_question, questions):\n",
        "    query_vector = get_avg_word2vec_vector(user_question)\n",
        "    scores = []\n",
        "    for question in questions:\n",
        "        question_vector = get_avg_word2vec_vector(question)\n",
        "        score = np.dot(query_vector, question_vector)\n",
        "        scores.append(score)\n",
        "    return np.array(scores)"
      ]
    },
    {
      "cell_type": "code",
      "execution_count": null,
      "metadata": {
        "id": "ytyy8FboOZs0"
      },
      "outputs": [],
      "source": [
        "def find_best_matching_question(user_question, questions):\n",
        "    tokenized_query = simple_preprocess(user_question)\n",
        "    bm25_scores = bm25.get_scores(tokenized_query)\n",
        "    word2vec_scores = get_word2vec_scores(user_question, questions)\n",
        "\n",
        "    bm25_scores = (bm25_scores - np.min(bm25_scores)) / (np.max(bm25_scores) - np.min(bm25_scores))\n",
        "    word2vec_scores = (word2vec_scores - np.min(word2vec_scores)) / (np.max(word2vec_scores) - np.min(word2vec_scores))\n",
        "\n",
        "    # Combine scores with equal weight\n",
        "    combined_scores = bm25_scores + word2vec_scores\n",
        "\n",
        "    best_idx = np.argmax(combined_scores)\n",
        "    best_question = questions[best_idx]\n",
        "    return best_question"
      ]
    },
    {
      "cell_type": "code",
      "execution_count": null,
      "metadata": {
        "colab": {
          "base_uri": "https://localhost:8080/"
        },
        "id": "sIyOQtXG_8MR",
        "outputId": "177d8976-dfea-4cc8-c3dc-d4c41cf9fa12"
      },
      "outputs": [
        {
          "name": "stdout",
          "output_type": "stream",
          "text": [
            "User Question: Lương ngoài giờ tính như thế nào\n",
            "Best matching question: tiền lương làm thêm giờ được tính như thế nào\n"
          ]
        }
      ],
      "source": [
        "input_question = \"Lương ngoài giờ tính như thế nào\"\n",
        "best_question = find_best_matching_question(input_question, questions)\n",
        "\n",
        "print(f\"User Question: {input_question}\")\n",
        "print(f\"Best matching question: {best_question}\")"
      ]
    }
  ],
  "metadata": {
    "colab": {
      "provenance": []
    },
    "kernelspec": {
      "display_name": "Python 3",
      "name": "python3"
    },
    "language_info": {
      "name": "python"
    }
  },
  "nbformat": 4,
  "nbformat_minor": 0
}
