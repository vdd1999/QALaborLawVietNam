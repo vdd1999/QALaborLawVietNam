{
  "cells": [
    {
      "cell_type": "markdown",
      "metadata": {
        "id": "Wa_AHl84mUvH"
      },
      "source": [
        "# QA Labor law training phoBERT"
      ]
    },
    {
      "cell_type": "markdown",
      "metadata": {
        "id": "Vi0XQFyVuKhz"
      },
      "source": [
        "1. Install lib for model phoBERT"
      ]
    },
    {
      "cell_type": "code",
      "execution_count": null,
      "metadata": {
        "colab": {
          "base_uri": "https://localhost:8080/"
        },
        "collapsed": true,
        "id": "yl7I418EuFs9",
        "outputId": "70c26bb2-a2d2-421d-beda-5853dd403dd8"
      },
      "outputs": [],
      "source": [
        "!pip install datasets rouge_score\n",
        "!pip install accelerate -U"
      ]
    },
    {
      "cell_type": "markdown",
      "metadata": {
        "id": "MDpPieOuprxA"
      },
      "source": [
        "2. Mount drive"
      ]
    },
    {
      "cell_type": "code",
      "execution_count": null,
      "metadata": {
        "id": "QwIj1P96pthB"
      },
      "outputs": [],
      "source": [
        "from google.colab import drive\n",
        "drive.mount('/content/drive')\n"
      ]
    },
    {
      "cell_type": "markdown",
      "metadata": {
        "id": "ZYqtIDHouyzN"
      },
      "source": [
        "3. Import lib using for train phoBERT"
      ]
    },
    {
      "cell_type": "code",
      "execution_count": 15,
      "metadata": {
        "id": "4lV4SG5uuWhT"
      },
      "outputs": [],
      "source": [
        "from datasets import Dataset\n",
        "import json\n",
        "import torch\n",
        "import re\n",
        "from transformers import RobertaTokenizerFast, DefaultDataCollator, TrainingArguments, Trainer, AutoModelForQuestionAnswering\n",
        "from sklearn.model_selection import train_test_split"
      ]
    },
    {
      "cell_type": "markdown",
      "metadata": {
        "id": "F0FcLpl6vaWt"
      },
      "source": [
        "3. Choose using model"
      ]
    },
    {
      "cell_type": "code",
      "execution_count": null,
      "metadata": {
        "id": "Uha2D4_MvZ3b"
      },
      "outputs": [],
      "source": [
        "model = AutoModelForQuestionAnswering.from_pretrained(\"vinai/phobert-base\")\n",
        "tokenizer = RobertaTokenizerFast.from_pretrained(\"vinai/phobert-base\")"
      ]
    },
    {
      "cell_type": "markdown",
      "metadata": {
        "id": "eUneMEICvhFw"
      },
      "source": [
        "4. Support function prepare dataset"
      ]
    },
    {
      "cell_type": "markdown",
      "metadata": {
        "id": "IPhNh9byrBs1"
      },
      "source": [
        "4.1 Filter long context"
      ]
    },
    {
      "cell_type": "code",
      "execution_count": 5,
      "metadata": {
        "id": "8HYQphgnrGOK"
      },
      "outputs": [],
      "source": [
        "def filter_long_contexts(data):\n",
        "    long_contexts = []\n",
        "    for squadData in data:\n",
        "      for article in squadData['data']:\n",
        "          for paragraph in article['paragraphs']:\n",
        "              if len(paragraph['context']) > 511:\n",
        "                  long_contexts.append({\n",
        "                      'type': 'context',\n",
        "                      'text': paragraph['context']\n",
        "                  })\n",
        "                  continue  # Bỏ qua kiểm tra câu hỏi nếu context đã dài hơn 258 ký tự\n",
        "              for qa in paragraph['qas']:\n",
        "                  if len(qa['question']) > 258:\n",
        "                      long_contexts.append({\n",
        "                          'type': 'question',\n",
        "                          'text': qa['question']\n",
        "                      })\n",
        "    return long_contexts"
      ]
    },
    {
      "cell_type": "markdown",
      "metadata": {
        "id": "5pcK7HmJrZNi"
      },
      "source": [
        "Filter long contexts"
      ]
    },
    {
      "cell_type": "code",
      "execution_count": 6,
      "metadata": {
        "id": "rW4mH8tTrKd7"
      },
      "outputs": [],
      "source": [
        "input_file = '/content/drive/MyDrive/models/qa_train.json'\n",
        "with open(input_file, 'r', encoding='utf-8') as f:\n",
        "    data = json.load(f)\n",
        "\n",
        "# Lọc các context dài hơn 258 ký tự\n",
        "long_entries = filter_long_contexts(data)\n",
        "\n",
        "# Lưu các context đã lọc vào file mới\n",
        "output_file = '/content/drive/MyDrive/models/filtered_squad_contexts.json'\n",
        "with open(output_file, 'w', encoding='utf-8') as f:\n",
        "    json.dump(long_entries, f, ensure_ascii=False, indent=4)"
      ]
    },
    {
      "cell_type": "markdown",
      "metadata": {
        "id": "yI7__Hkbr7uj"
      },
      "source": [
        "4.2 Clean text"
      ]
    },
    {
      "cell_type": "code",
      "execution_count": 7,
      "metadata": {
        "id": "SpzqfD2xr_8-"
      },
      "outputs": [],
      "source": [
        "def clean_text(text):\n",
        "    # Loại bỏ các ký tự không cần thiết\n",
        "    text = re.sub(r'[.,?]', '', text)\n",
        "    return text.lower()"
      ]
    },
    {
      "cell_type": "markdown",
      "metadata": {
        "id": "ZicVaAInsEFf"
      },
      "source": [
        "4.3 Finding answer start"
      ]
    },
    {
      "cell_type": "code",
      "execution_count": 8,
      "metadata": {
        "id": "P2XknIY3sGkD"
      },
      "outputs": [],
      "source": [
        "def find_answer_start(context, answer):\n",
        "    cleaned_context = clean_text(context)\n",
        "    cleaned_answer = clean_text(answer)\n",
        "\n",
        "    # Tìm toàn bộ câu trả lời\n",
        "    start = cleaned_context.find(cleaned_answer)\n",
        "    if start != -1:\n",
        "        return start\n",
        "\n",
        "    # Tìm 2 chữ đầu tiên\n",
        "    words = cleaned_answer.split()\n",
        "    if len(words) >= 2:\n",
        "        two_words = ' '.join(words[:2])\n",
        "        start = cleaned_context.find(two_words)\n",
        "        if start != -1:\n",
        "            return start\n",
        "\n",
        "    # Tìm 3 chữ đầu tiên\n",
        "    if len(words) >= 3:\n",
        "        three_words = ' '.join(words[:3])\n",
        "        start = cleaned_context.find(three_words)\n",
        "        if start != -1:\n",
        "            return start\n",
        "\n",
        "    # Bỏ chữ \"có\" và tìm 2 chữ đầu tiên\n",
        "    if words[0] == 'có':\n",
        "        if len(words) >= 3:\n",
        "            two_words_without_first = ' '.join(words[1:3])\n",
        "            start = cleaned_context.find(two_words_without_first)\n",
        "            if start != -1:\n",
        "                return start\n",
        "    # Bỏ chữ \"KHÔNG\" và tìm 2 chữ đầu tiên\n",
        "    if words[0] == 'không':\n",
        "        if len(words) >= 3:\n",
        "            two_words_without_first = ' '.join(words[1:3])\n",
        "            start = cleaned_context.find(two_words_without_first)\n",
        "            if start != -1:\n",
        "                return start\n",
        "    # Bỏ chữ \"Để\" và tìm 2 chữ đầu tiên\n",
        "    if words[0] == 'để':\n",
        "        if len(words) >= 3:\n",
        "            two_words_without_first = ' '.join(words[1:3])\n",
        "            start = cleaned_context.find(two_words_without_first)\n",
        "            if start != -1:\n",
        "                return start\n",
        "    return -1  # Nếu không tìm thấy"
      ]
    },
    {
      "cell_type": "markdown",
      "metadata": {
        "id": "Eo4L5CAasQ0F"
      },
      "source": [
        "4.4 Update answer start for data set"
      ]
    },
    {
      "cell_type": "code",
      "execution_count": 12,
      "metadata": {
        "id": "QheB3HaTsDGv"
      },
      "outputs": [],
      "source": [
        "def update_answer_starts(data):\n",
        "    not_found_answers = []\n",
        "    for squadData in data:\n",
        "      for article in squadData['data']:\n",
        "          for paragraph in article['paragraphs']:\n",
        "              context = paragraph['context']\n",
        "              for qa in paragraph['qas']:\n",
        "                  for answer in qa['answers']:\n",
        "                      answer_text = answer['text']\n",
        "                      answer_start = find_answer_start(context, answer_text)\n",
        "                      if answer_start == -1:\n",
        "                          not_found_answers.append({\n",
        "                              \"context\": context,\n",
        "                              \"answer\": answer_text\n",
        "                          })\n",
        "                      answer['answer_start'] = answer_start\n",
        "    return data, not_found_answers"
      ]
    },
    {
      "cell_type": "markdown",
      "metadata": {
        "id": "Rj4-lx5zsZef"
      },
      "source": [
        "Apply update answer start for data set"
      ]
    },
    {
      "cell_type": "code",
      "execution_count": 13,
      "metadata": {
        "id": "u8kTQ3GesceK"
      },
      "outputs": [],
      "source": [
        "with open('/content/drive/MyDrive/models/qa_train.json', 'r', encoding='utf-8') as file:\n",
        "    squad_data = json.load(file)\n",
        "\n",
        "updated_data, not_found_answers = update_answer_starts(squad_data)\n",
        "\n",
        "with open('/content/drive/MyDrive/models/updated_squad_data.json', 'w', encoding='utf-8') as file:\n",
        "    json.dump(updated_data, file, ensure_ascii=False, indent=2)\n",
        "\n",
        "with open('/content/drive/MyDrive/models/not_found_answers.json', 'w', encoding='utf-8') as file:\n",
        "    json.dump(not_found_answers, file, ensure_ascii=False, indent=2)"
      ]
    },
    {
      "cell_type": "markdown",
      "metadata": {
        "id": "vsZ5uCNFvxsm"
      },
      "source": [
        "4.5. Load preprocess data set"
      ]
    },
    {
      "cell_type": "code",
      "execution_count": 14,
      "metadata": {
        "id": "z64E5ITLvIH2"
      },
      "outputs": [],
      "source": [
        "def load_and_preprocess_squad(input_file):\n",
        "  with open(input_file, 'r', encoding='utf-8') as f:\n",
        "      data = json.load(f)\n",
        "\n",
        "  contexts = []\n",
        "  questions = []\n",
        "  answers = []\n",
        "  for dataJson in data:\n",
        "    for article in dataJson['data']:\n",
        "        for paragraph in article['paragraphs']:\n",
        "            context = paragraph['context']\n",
        "            for qa in paragraph['qas']:\n",
        "                question = qa['question']\n",
        "                answer = qa['answers'][0]['text'] if qa['answers'] else None\n",
        "                answerStart = qa['answers'][0]['answer_start'] if qa['answers'] else None\n",
        "                if answer is None:\n",
        "                  print(question)\n",
        "                if answer is None:\n",
        "                  print(question)\n",
        "                if answer:\n",
        "                    contexts.append(context)\n",
        "                    questions.append(question)\n",
        "                    answers.append({\n",
        "                      \"text\": [answer.lower()],\n",
        "                      \"start\": [answerStart]\n",
        "                    })\n",
        "\n",
        "  # Kiểm tra độ dài của các cột\n",
        "  assert len(contexts) == len(questions) == len(answers)\n",
        "\n",
        "  # Tạo từ điển dữ liệu\n",
        "  dataset = {\n",
        "      'context': contexts,\n",
        "      'question': questions,\n",
        "      'answer': answers\n",
        "  }\n",
        "\n",
        "  return dataset"
      ]
    },
    {
      "cell_type": "markdown",
      "metadata": {
        "id": "hlJUGzO5wfd6"
      },
      "source": [
        "4.6 Split data"
      ]
    },
    {
      "cell_type": "code",
      "execution_count": 16,
      "metadata": {
        "id": "JMAAe_Fxwh9J"
      },
      "outputs": [],
      "source": [
        "def split_data(dataset, test_size=0.1):\n",
        "    contexts = dataset['context']\n",
        "    questions = dataset['question']\n",
        "    answers = dataset['answer']\n",
        "\n",
        "    train_contexts, val_contexts, train_questions, val_questions, train_answers, val_answers = train_test_split(\n",
        "        contexts, questions, answers, test_size=test_size, random_state=42\n",
        "    )\n",
        "\n",
        "    train_dataset = {\n",
        "        'context': train_contexts,\n",
        "        'question': train_questions,\n",
        "        'answer': train_answers\n",
        "    }\n",
        "\n",
        "    val_dataset = {\n",
        "        'context': val_contexts,\n",
        "        'question': val_questions,\n",
        "        'answer': val_answers\n",
        "    }\n",
        "\n",
        "    return train_dataset, val_dataset"
      ]
    },
    {
      "cell_type": "markdown",
      "metadata": {
        "id": "GiKg0D7qtssC"
      },
      "source": [
        "4.7 Preprocess function map data set"
      ]
    },
    {
      "cell_type": "code",
      "execution_count": 17,
      "metadata": {
        "id": "MWvkIFtktvly"
      },
      "outputs": [],
      "source": [
        "def preprocess_function(examples):\n",
        "    questions = [q.strip() for q in examples[\"question\"]]\n",
        "    inputs = tokenizer(\n",
        "        questions,\n",
        "        examples[\"context\"],\n",
        "        max_length=258,\n",
        "        truncation=\"only_second\",\n",
        "        return_offsets_mapping=True,\n",
        "        padding=\"max_length\",\n",
        "    )\n",
        "\n",
        "    offset_mapping = inputs.pop(\"offset_mapping\")\n",
        "    answers = examples[\"answer\"]\n",
        "    start_positions = []\n",
        "    end_positions = []\n",
        "\n",
        "    for i, offset in enumerate(offset_mapping):\n",
        "        answer = answers[i]\n",
        "        start_char = answer[\"start\"][0]\n",
        "        end_char = answer[\"start\"][0] + len(answer[\"text\"][0])\n",
        "        sequence_ids = inputs.sequence_ids(i)\n",
        "\n",
        "        # Find the start and end of the context\n",
        "        idx = 0\n",
        "        while sequence_ids[idx] != 1:\n",
        "            idx += 1\n",
        "        context_start = idx\n",
        "        while sequence_ids[idx] == 1:\n",
        "            idx += 1\n",
        "        context_end = idx - 1\n",
        "\n",
        "        # If the answer is not fully inside the context, label it (0, 0)\n",
        "        if offset[context_start][0] > end_char or offset[context_end][1] < start_char:\n",
        "            start_positions.append(0)\n",
        "            end_positions.append(0)\n",
        "        else:\n",
        "            # Otherwise it's the start and end token positions\n",
        "            idx = context_start\n",
        "            while idx <= context_end and offset[idx][0] <= start_char:\n",
        "                idx += 1\n",
        "            start_positions.append(idx - 1)\n",
        "\n",
        "            idx = context_end\n",
        "            while idx >= context_start and offset[idx][1] >= end_char:\n",
        "                idx -= 1\n",
        "            end_positions.append(idx + 1)\n",
        "    inputs[\"start_positions\"] = start_positions\n",
        "    inputs[\"end_positions\"] = end_positions\n",
        "    return inputs"
      ]
    },
    {
      "cell_type": "markdown",
      "metadata": {
        "id": "ni2QQx-MwwFm"
      },
      "source": [
        "5. Load train, eval data"
      ]
    },
    {
      "cell_type": "code",
      "execution_count": 18,
      "metadata": {
        "id": "ck5Gwn-Vwzj1"
      },
      "outputs": [],
      "source": [
        "dataset = load_and_preprocess_squad(\"/content/drive/MyDrive/models/qa_train.json\")\n",
        "\n",
        "train_dataset, val_dataset = split_data(dataset, test_size=0.1)"
      ]
    },
    {
      "cell_type": "code",
      "execution_count": 19,
      "metadata": {
        "colab": {
          "base_uri": "https://localhost:8080/"
        },
        "id": "tDPswME9w4ll",
        "outputId": "77285bf5-dcff-4822-a9f8-22cf3570ee90"
      },
      "outputs": [
        {
          "name": "stdout",
          "output_type": "stream",
          "text": [
            "Train dataset size: 2655\n",
            "Validation dataset size: 295\n"
          ]
        }
      ],
      "source": [
        "print(f\"Train dataset size: {len(train_dataset['answer'])}\")\n",
        "print(f\"Validation dataset size: {len(val_dataset['answer'])}\")"
      ]
    },
    {
      "cell_type": "code",
      "execution_count": 20,
      "metadata": {
        "id": "9TNb3uKNuab_"
      },
      "outputs": [],
      "source": [
        "dataset_train = Dataset.from_dict(train_dataset)\n",
        "dataset_eval = Dataset.from_dict(val_dataset)"
      ]
    },
    {
      "cell_type": "markdown",
      "metadata": {
        "id": "mjq-IAUFxPvv"
      },
      "source": [
        "6. Tokenize data training, eval"
      ]
    },
    {
      "cell_type": "code",
      "execution_count": null,
      "metadata": {
        "colab": {
          "base_uri": "https://localhost:8080/",
          "height": 81,
          "referenced_widgets": [
            "0b250bfd9602408eb3ecd823d50a77e7",
            "d2f8b7a32b1841a8a21c7facc83e292d",
            "679a552b92de47e79007f3862665aea3",
            "1ddbfbde98dd46dc8c4faaa01e945e8f",
            "342fe085dafa40a999af74d775f5712f",
            "7671f461943543dcb2acaa9c26ef8b3e",
            "ca6bb84546f6426aa86b643c1be262e7",
            "73c26254d636433395c417d019093706",
            "580510cd31a64e0fa91ee8040a2551c6",
            "6fc59b889e1340e3a70c7416ca908ec2",
            "3b31c1046ad84eef9ec2effee044f6af",
            "54afb50cafbf4067bcfd52622a2c236e",
            "b5c2136e19284abdb02ecd9b8188970d",
            "17221e6350a44e43b6f2753d5ed35749",
            "2e1ec23140d2466d92bd9bd9c76bb23a",
            "274eafdbd909465c823b1a9c02f2d50a",
            "b6c80b0528f446a4b2bdd52d8c85f82a",
            "a075145152a54d0bbb0fcf64cf4b434e",
            "ebbaf2f1cf174433bcf4ff65cfdb4e98",
            "82591155c91a4a2388ac01ad4aef8577",
            "4f2588b6b8b04db5a4f1f4d505e563a2",
            "a12c515491c94fecba35a5f6ffb0eb73"
          ]
        },
        "id": "n-ht8q6nxS42",
        "outputId": "a21e1db2-524d-4c2d-ae6d-b906275d01a6"
      },
      "outputs": [],
      "source": [
        "tokenized_squad = dataset_train.map(preprocess_function, batched=True, remove_columns=dataset_train.column_names)\n",
        "tokenized_squad_eval = dataset_eval.map(preprocess_function, batched=True, remove_columns=dataset_eval.column_names)"
      ]
    },
    {
      "cell_type": "code",
      "execution_count": 22,
      "metadata": {
        "id": "DYW8ghm2xqzO"
      },
      "outputs": [],
      "source": [
        "from transformers import DefaultDataCollator"
      ]
    },
    {
      "cell_type": "markdown",
      "metadata": {
        "id": "vnGLSBNSxpBt"
      },
      "source": [
        "7. Training args"
      ]
    },
    {
      "cell_type": "code",
      "execution_count": null,
      "metadata": {
        "colab": {
          "base_uri": "https://localhost:8080/"
        },
        "id": "T5_3Yiqzxs-p",
        "outputId": "977ab0aa-e151-436c-f68a-b0c284fc2ac8"
      },
      "outputs": [],
      "source": [
        "data_collator = DefaultDataCollator()\n",
        "\n",
        "training_args = TrainingArguments(\n",
        "    output_dir=\"phobert_law\",\n",
        "    evaluation_strategy=\"epoch\",\n",
        "    learning_rate=2e-5,\n",
        "    per_device_train_batch_size=16,\n",
        "    per_device_eval_batch_size=16,\n",
        "    num_train_epochs=50,\n",
        "    push_to_hub=False,\n",
        ")\n",
        "\n",
        "trainer = Trainer(\n",
        "    model=model,\n",
        "    args=training_args,\n",
        "    train_dataset=tokenized_squad,\n",
        "    eval_dataset=tokenized_squad_eval,\n",
        "    tokenizer=tokenizer,\n",
        "    data_collator=data_collator,\n",
        "  )"
      ]
    },
    {
      "cell_type": "markdown",
      "metadata": {
        "id": "m3It5zjhx4Ck"
      },
      "source": [
        "8. Train model"
      ]
    },
    {
      "cell_type": "code",
      "execution_count": null,
      "metadata": {
        "id": "bkcxmO_Zx6XO"
      },
      "outputs": [],
      "source": [
        "trainer.train()"
      ]
    },
    {
      "cell_type": "markdown",
      "metadata": {
        "id": "LC5wqAGhyKTg"
      },
      "source": [
        "9. Saving model"
      ]
    },
    {
      "cell_type": "code",
      "execution_count": null,
      "metadata": {
        "id": "5yv1Jcd2yO-B"
      },
      "outputs": [],
      "source": [
        "trainer.save_pretrained('/content/data')\n",
        "tokenizer.save_pretrained('/content/data')"
      ]
    }
  ],
  "metadata": {
    "colab": {
      "provenance": []
    },
    "kernelspec": {
      "display_name": "Python 3",
      "name": "python3"
    },
    "language_info": {
      "name": "python"
    },
    "widgets": {
      "application/vnd.jupyter.widget-state+json": {
        "0b250bfd9602408eb3ecd823d50a77e7": {
          "model_module": "@jupyter-widgets/controls",
          "model_module_version": "1.5.0",
          "model_name": "HBoxModel",
          "state": {
            "_dom_classes": [],
            "_model_module": "@jupyter-widgets/controls",
            "_model_module_version": "1.5.0",
            "_model_name": "HBoxModel",
            "_view_count": null,
            "_view_module": "@jupyter-widgets/controls",
            "_view_module_version": "1.5.0",
            "_view_name": "HBoxView",
            "box_style": "",
            "children": [
              "IPY_MODEL_d2f8b7a32b1841a8a21c7facc83e292d",
              "IPY_MODEL_679a552b92de47e79007f3862665aea3",
              "IPY_MODEL_1ddbfbde98dd46dc8c4faaa01e945e8f"
            ],
            "layout": "IPY_MODEL_342fe085dafa40a999af74d775f5712f"
          }
        },
        "17221e6350a44e43b6f2753d5ed35749": {
          "model_module": "@jupyter-widgets/controls",
          "model_module_version": "1.5.0",
          "model_name": "FloatProgressModel",
          "state": {
            "_dom_classes": [],
            "_model_module": "@jupyter-widgets/controls",
            "_model_module_version": "1.5.0",
            "_model_name": "FloatProgressModel",
            "_view_count": null,
            "_view_module": "@jupyter-widgets/controls",
            "_view_module_version": "1.5.0",
            "_view_name": "ProgressView",
            "bar_style": "success",
            "description": "",
            "description_tooltip": null,
            "layout": "IPY_MODEL_ebbaf2f1cf174433bcf4ff65cfdb4e98",
            "max": 295,
            "min": 0,
            "orientation": "horizontal",
            "style": "IPY_MODEL_82591155c91a4a2388ac01ad4aef8577",
            "value": 295
          }
        },
        "1ddbfbde98dd46dc8c4faaa01e945e8f": {
          "model_module": "@jupyter-widgets/controls",
          "model_module_version": "1.5.0",
          "model_name": "HTMLModel",
          "state": {
            "_dom_classes": [],
            "_model_module": "@jupyter-widgets/controls",
            "_model_module_version": "1.5.0",
            "_model_name": "HTMLModel",
            "_view_count": null,
            "_view_module": "@jupyter-widgets/controls",
            "_view_module_version": "1.5.0",
            "_view_name": "HTMLView",
            "description": "",
            "description_tooltip": null,
            "layout": "IPY_MODEL_6fc59b889e1340e3a70c7416ca908ec2",
            "placeholder": "​",
            "style": "IPY_MODEL_3b31c1046ad84eef9ec2effee044f6af",
            "value": " 2655/2655 [00:04&lt;00:00, 696.89 examples/s]"
          }
        },
        "274eafdbd909465c823b1a9c02f2d50a": {
          "model_module": "@jupyter-widgets/base",
          "model_module_version": "1.2.0",
          "model_name": "LayoutModel",
          "state": {
            "_model_module": "@jupyter-widgets/base",
            "_model_module_version": "1.2.0",
            "_model_name": "LayoutModel",
            "_view_count": null,
            "_view_module": "@jupyter-widgets/base",
            "_view_module_version": "1.2.0",
            "_view_name": "LayoutView",
            "align_content": null,
            "align_items": null,
            "align_self": null,
            "border": null,
            "bottom": null,
            "display": null,
            "flex": null,
            "flex_flow": null,
            "grid_area": null,
            "grid_auto_columns": null,
            "grid_auto_flow": null,
            "grid_auto_rows": null,
            "grid_column": null,
            "grid_gap": null,
            "grid_row": null,
            "grid_template_areas": null,
            "grid_template_columns": null,
            "grid_template_rows": null,
            "height": null,
            "justify_content": null,
            "justify_items": null,
            "left": null,
            "margin": null,
            "max_height": null,
            "max_width": null,
            "min_height": null,
            "min_width": null,
            "object_fit": null,
            "object_position": null,
            "order": null,
            "overflow": null,
            "overflow_x": null,
            "overflow_y": null,
            "padding": null,
            "right": null,
            "top": null,
            "visibility": null,
            "width": null
          }
        },
        "2e1ec23140d2466d92bd9bd9c76bb23a": {
          "model_module": "@jupyter-widgets/controls",
          "model_module_version": "1.5.0",
          "model_name": "HTMLModel",
          "state": {
            "_dom_classes": [],
            "_model_module": "@jupyter-widgets/controls",
            "_model_module_version": "1.5.0",
            "_model_name": "HTMLModel",
            "_view_count": null,
            "_view_module": "@jupyter-widgets/controls",
            "_view_module_version": "1.5.0",
            "_view_name": "HTMLView",
            "description": "",
            "description_tooltip": null,
            "layout": "IPY_MODEL_4f2588b6b8b04db5a4f1f4d505e563a2",
            "placeholder": "​",
            "style": "IPY_MODEL_a12c515491c94fecba35a5f6ffb0eb73",
            "value": " 295/295 [00:00&lt;00:00, 647.33 examples/s]"
          }
        },
        "342fe085dafa40a999af74d775f5712f": {
          "model_module": "@jupyter-widgets/base",
          "model_module_version": "1.2.0",
          "model_name": "LayoutModel",
          "state": {
            "_model_module": "@jupyter-widgets/base",
            "_model_module_version": "1.2.0",
            "_model_name": "LayoutModel",
            "_view_count": null,
            "_view_module": "@jupyter-widgets/base",
            "_view_module_version": "1.2.0",
            "_view_name": "LayoutView",
            "align_content": null,
            "align_items": null,
            "align_self": null,
            "border": null,
            "bottom": null,
            "display": null,
            "flex": null,
            "flex_flow": null,
            "grid_area": null,
            "grid_auto_columns": null,
            "grid_auto_flow": null,
            "grid_auto_rows": null,
            "grid_column": null,
            "grid_gap": null,
            "grid_row": null,
            "grid_template_areas": null,
            "grid_template_columns": null,
            "grid_template_rows": null,
            "height": null,
            "justify_content": null,
            "justify_items": null,
            "left": null,
            "margin": null,
            "max_height": null,
            "max_width": null,
            "min_height": null,
            "min_width": null,
            "object_fit": null,
            "object_position": null,
            "order": null,
            "overflow": null,
            "overflow_x": null,
            "overflow_y": null,
            "padding": null,
            "right": null,
            "top": null,
            "visibility": null,
            "width": null
          }
        },
        "3b31c1046ad84eef9ec2effee044f6af": {
          "model_module": "@jupyter-widgets/controls",
          "model_module_version": "1.5.0",
          "model_name": "DescriptionStyleModel",
          "state": {
            "_model_module": "@jupyter-widgets/controls",
            "_model_module_version": "1.5.0",
            "_model_name": "DescriptionStyleModel",
            "_view_count": null,
            "_view_module": "@jupyter-widgets/base",
            "_view_module_version": "1.2.0",
            "_view_name": "StyleView",
            "description_width": ""
          }
        },
        "4f2588b6b8b04db5a4f1f4d505e563a2": {
          "model_module": "@jupyter-widgets/base",
          "model_module_version": "1.2.0",
          "model_name": "LayoutModel",
          "state": {
            "_model_module": "@jupyter-widgets/base",
            "_model_module_version": "1.2.0",
            "_model_name": "LayoutModel",
            "_view_count": null,
            "_view_module": "@jupyter-widgets/base",
            "_view_module_version": "1.2.0",
            "_view_name": "LayoutView",
            "align_content": null,
            "align_items": null,
            "align_self": null,
            "border": null,
            "bottom": null,
            "display": null,
            "flex": null,
            "flex_flow": null,
            "grid_area": null,
            "grid_auto_columns": null,
            "grid_auto_flow": null,
            "grid_auto_rows": null,
            "grid_column": null,
            "grid_gap": null,
            "grid_row": null,
            "grid_template_areas": null,
            "grid_template_columns": null,
            "grid_template_rows": null,
            "height": null,
            "justify_content": null,
            "justify_items": null,
            "left": null,
            "margin": null,
            "max_height": null,
            "max_width": null,
            "min_height": null,
            "min_width": null,
            "object_fit": null,
            "object_position": null,
            "order": null,
            "overflow": null,
            "overflow_x": null,
            "overflow_y": null,
            "padding": null,
            "right": null,
            "top": null,
            "visibility": null,
            "width": null
          }
        },
        "54afb50cafbf4067bcfd52622a2c236e": {
          "model_module": "@jupyter-widgets/controls",
          "model_module_version": "1.5.0",
          "model_name": "HBoxModel",
          "state": {
            "_dom_classes": [],
            "_model_module": "@jupyter-widgets/controls",
            "_model_module_version": "1.5.0",
            "_model_name": "HBoxModel",
            "_view_count": null,
            "_view_module": "@jupyter-widgets/controls",
            "_view_module_version": "1.5.0",
            "_view_name": "HBoxView",
            "box_style": "",
            "children": [
              "IPY_MODEL_b5c2136e19284abdb02ecd9b8188970d",
              "IPY_MODEL_17221e6350a44e43b6f2753d5ed35749",
              "IPY_MODEL_2e1ec23140d2466d92bd9bd9c76bb23a"
            ],
            "layout": "IPY_MODEL_274eafdbd909465c823b1a9c02f2d50a"
          }
        },
        "580510cd31a64e0fa91ee8040a2551c6": {
          "model_module": "@jupyter-widgets/controls",
          "model_module_version": "1.5.0",
          "model_name": "ProgressStyleModel",
          "state": {
            "_model_module": "@jupyter-widgets/controls",
            "_model_module_version": "1.5.0",
            "_model_name": "ProgressStyleModel",
            "_view_count": null,
            "_view_module": "@jupyter-widgets/base",
            "_view_module_version": "1.2.0",
            "_view_name": "StyleView",
            "bar_color": null,
            "description_width": ""
          }
        },
        "679a552b92de47e79007f3862665aea3": {
          "model_module": "@jupyter-widgets/controls",
          "model_module_version": "1.5.0",
          "model_name": "FloatProgressModel",
          "state": {
            "_dom_classes": [],
            "_model_module": "@jupyter-widgets/controls",
            "_model_module_version": "1.5.0",
            "_model_name": "FloatProgressModel",
            "_view_count": null,
            "_view_module": "@jupyter-widgets/controls",
            "_view_module_version": "1.5.0",
            "_view_name": "ProgressView",
            "bar_style": "success",
            "description": "",
            "description_tooltip": null,
            "layout": "IPY_MODEL_73c26254d636433395c417d019093706",
            "max": 2655,
            "min": 0,
            "orientation": "horizontal",
            "style": "IPY_MODEL_580510cd31a64e0fa91ee8040a2551c6",
            "value": 2655
          }
        },
        "6fc59b889e1340e3a70c7416ca908ec2": {
          "model_module": "@jupyter-widgets/base",
          "model_module_version": "1.2.0",
          "model_name": "LayoutModel",
          "state": {
            "_model_module": "@jupyter-widgets/base",
            "_model_module_version": "1.2.0",
            "_model_name": "LayoutModel",
            "_view_count": null,
            "_view_module": "@jupyter-widgets/base",
            "_view_module_version": "1.2.0",
            "_view_name": "LayoutView",
            "align_content": null,
            "align_items": null,
            "align_self": null,
            "border": null,
            "bottom": null,
            "display": null,
            "flex": null,
            "flex_flow": null,
            "grid_area": null,
            "grid_auto_columns": null,
            "grid_auto_flow": null,
            "grid_auto_rows": null,
            "grid_column": null,
            "grid_gap": null,
            "grid_row": null,
            "grid_template_areas": null,
            "grid_template_columns": null,
            "grid_template_rows": null,
            "height": null,
            "justify_content": null,
            "justify_items": null,
            "left": null,
            "margin": null,
            "max_height": null,
            "max_width": null,
            "min_height": null,
            "min_width": null,
            "object_fit": null,
            "object_position": null,
            "order": null,
            "overflow": null,
            "overflow_x": null,
            "overflow_y": null,
            "padding": null,
            "right": null,
            "top": null,
            "visibility": null,
            "width": null
          }
        },
        "73c26254d636433395c417d019093706": {
          "model_module": "@jupyter-widgets/base",
          "model_module_version": "1.2.0",
          "model_name": "LayoutModel",
          "state": {
            "_model_module": "@jupyter-widgets/base",
            "_model_module_version": "1.2.0",
            "_model_name": "LayoutModel",
            "_view_count": null,
            "_view_module": "@jupyter-widgets/base",
            "_view_module_version": "1.2.0",
            "_view_name": "LayoutView",
            "align_content": null,
            "align_items": null,
            "align_self": null,
            "border": null,
            "bottom": null,
            "display": null,
            "flex": null,
            "flex_flow": null,
            "grid_area": null,
            "grid_auto_columns": null,
            "grid_auto_flow": null,
            "grid_auto_rows": null,
            "grid_column": null,
            "grid_gap": null,
            "grid_row": null,
            "grid_template_areas": null,
            "grid_template_columns": null,
            "grid_template_rows": null,
            "height": null,
            "justify_content": null,
            "justify_items": null,
            "left": null,
            "margin": null,
            "max_height": null,
            "max_width": null,
            "min_height": null,
            "min_width": null,
            "object_fit": null,
            "object_position": null,
            "order": null,
            "overflow": null,
            "overflow_x": null,
            "overflow_y": null,
            "padding": null,
            "right": null,
            "top": null,
            "visibility": null,
            "width": null
          }
        },
        "7671f461943543dcb2acaa9c26ef8b3e": {
          "model_module": "@jupyter-widgets/base",
          "model_module_version": "1.2.0",
          "model_name": "LayoutModel",
          "state": {
            "_model_module": "@jupyter-widgets/base",
            "_model_module_version": "1.2.0",
            "_model_name": "LayoutModel",
            "_view_count": null,
            "_view_module": "@jupyter-widgets/base",
            "_view_module_version": "1.2.0",
            "_view_name": "LayoutView",
            "align_content": null,
            "align_items": null,
            "align_self": null,
            "border": null,
            "bottom": null,
            "display": null,
            "flex": null,
            "flex_flow": null,
            "grid_area": null,
            "grid_auto_columns": null,
            "grid_auto_flow": null,
            "grid_auto_rows": null,
            "grid_column": null,
            "grid_gap": null,
            "grid_row": null,
            "grid_template_areas": null,
            "grid_template_columns": null,
            "grid_template_rows": null,
            "height": null,
            "justify_content": null,
            "justify_items": null,
            "left": null,
            "margin": null,
            "max_height": null,
            "max_width": null,
            "min_height": null,
            "min_width": null,
            "object_fit": null,
            "object_position": null,
            "order": null,
            "overflow": null,
            "overflow_x": null,
            "overflow_y": null,
            "padding": null,
            "right": null,
            "top": null,
            "visibility": null,
            "width": null
          }
        },
        "82591155c91a4a2388ac01ad4aef8577": {
          "model_module": "@jupyter-widgets/controls",
          "model_module_version": "1.5.0",
          "model_name": "ProgressStyleModel",
          "state": {
            "_model_module": "@jupyter-widgets/controls",
            "_model_module_version": "1.5.0",
            "_model_name": "ProgressStyleModel",
            "_view_count": null,
            "_view_module": "@jupyter-widgets/base",
            "_view_module_version": "1.2.0",
            "_view_name": "StyleView",
            "bar_color": null,
            "description_width": ""
          }
        },
        "a075145152a54d0bbb0fcf64cf4b434e": {
          "model_module": "@jupyter-widgets/controls",
          "model_module_version": "1.5.0",
          "model_name": "DescriptionStyleModel",
          "state": {
            "_model_module": "@jupyter-widgets/controls",
            "_model_module_version": "1.5.0",
            "_model_name": "DescriptionStyleModel",
            "_view_count": null,
            "_view_module": "@jupyter-widgets/base",
            "_view_module_version": "1.2.0",
            "_view_name": "StyleView",
            "description_width": ""
          }
        },
        "a12c515491c94fecba35a5f6ffb0eb73": {
          "model_module": "@jupyter-widgets/controls",
          "model_module_version": "1.5.0",
          "model_name": "DescriptionStyleModel",
          "state": {
            "_model_module": "@jupyter-widgets/controls",
            "_model_module_version": "1.5.0",
            "_model_name": "DescriptionStyleModel",
            "_view_count": null,
            "_view_module": "@jupyter-widgets/base",
            "_view_module_version": "1.2.0",
            "_view_name": "StyleView",
            "description_width": ""
          }
        },
        "b5c2136e19284abdb02ecd9b8188970d": {
          "model_module": "@jupyter-widgets/controls",
          "model_module_version": "1.5.0",
          "model_name": "HTMLModel",
          "state": {
            "_dom_classes": [],
            "_model_module": "@jupyter-widgets/controls",
            "_model_module_version": "1.5.0",
            "_model_name": "HTMLModel",
            "_view_count": null,
            "_view_module": "@jupyter-widgets/controls",
            "_view_module_version": "1.5.0",
            "_view_name": "HTMLView",
            "description": "",
            "description_tooltip": null,
            "layout": "IPY_MODEL_b6c80b0528f446a4b2bdd52d8c85f82a",
            "placeholder": "​",
            "style": "IPY_MODEL_a075145152a54d0bbb0fcf64cf4b434e",
            "value": "Map: 100%"
          }
        },
        "b6c80b0528f446a4b2bdd52d8c85f82a": {
          "model_module": "@jupyter-widgets/base",
          "model_module_version": "1.2.0",
          "model_name": "LayoutModel",
          "state": {
            "_model_module": "@jupyter-widgets/base",
            "_model_module_version": "1.2.0",
            "_model_name": "LayoutModel",
            "_view_count": null,
            "_view_module": "@jupyter-widgets/base",
            "_view_module_version": "1.2.0",
            "_view_name": "LayoutView",
            "align_content": null,
            "align_items": null,
            "align_self": null,
            "border": null,
            "bottom": null,
            "display": null,
            "flex": null,
            "flex_flow": null,
            "grid_area": null,
            "grid_auto_columns": null,
            "grid_auto_flow": null,
            "grid_auto_rows": null,
            "grid_column": null,
            "grid_gap": null,
            "grid_row": null,
            "grid_template_areas": null,
            "grid_template_columns": null,
            "grid_template_rows": null,
            "height": null,
            "justify_content": null,
            "justify_items": null,
            "left": null,
            "margin": null,
            "max_height": null,
            "max_width": null,
            "min_height": null,
            "min_width": null,
            "object_fit": null,
            "object_position": null,
            "order": null,
            "overflow": null,
            "overflow_x": null,
            "overflow_y": null,
            "padding": null,
            "right": null,
            "top": null,
            "visibility": null,
            "width": null
          }
        },
        "ca6bb84546f6426aa86b643c1be262e7": {
          "model_module": "@jupyter-widgets/controls",
          "model_module_version": "1.5.0",
          "model_name": "DescriptionStyleModel",
          "state": {
            "_model_module": "@jupyter-widgets/controls",
            "_model_module_version": "1.5.0",
            "_model_name": "DescriptionStyleModel",
            "_view_count": null,
            "_view_module": "@jupyter-widgets/base",
            "_view_module_version": "1.2.0",
            "_view_name": "StyleView",
            "description_width": ""
          }
        },
        "d2f8b7a32b1841a8a21c7facc83e292d": {
          "model_module": "@jupyter-widgets/controls",
          "model_module_version": "1.5.0",
          "model_name": "HTMLModel",
          "state": {
            "_dom_classes": [],
            "_model_module": "@jupyter-widgets/controls",
            "_model_module_version": "1.5.0",
            "_model_name": "HTMLModel",
            "_view_count": null,
            "_view_module": "@jupyter-widgets/controls",
            "_view_module_version": "1.5.0",
            "_view_name": "HTMLView",
            "description": "",
            "description_tooltip": null,
            "layout": "IPY_MODEL_7671f461943543dcb2acaa9c26ef8b3e",
            "placeholder": "​",
            "style": "IPY_MODEL_ca6bb84546f6426aa86b643c1be262e7",
            "value": "Map: 100%"
          }
        },
        "ebbaf2f1cf174433bcf4ff65cfdb4e98": {
          "model_module": "@jupyter-widgets/base",
          "model_module_version": "1.2.0",
          "model_name": "LayoutModel",
          "state": {
            "_model_module": "@jupyter-widgets/base",
            "_model_module_version": "1.2.0",
            "_model_name": "LayoutModel",
            "_view_count": null,
            "_view_module": "@jupyter-widgets/base",
            "_view_module_version": "1.2.0",
            "_view_name": "LayoutView",
            "align_content": null,
            "align_items": null,
            "align_self": null,
            "border": null,
            "bottom": null,
            "display": null,
            "flex": null,
            "flex_flow": null,
            "grid_area": null,
            "grid_auto_columns": null,
            "grid_auto_flow": null,
            "grid_auto_rows": null,
            "grid_column": null,
            "grid_gap": null,
            "grid_row": null,
            "grid_template_areas": null,
            "grid_template_columns": null,
            "grid_template_rows": null,
            "height": null,
            "justify_content": null,
            "justify_items": null,
            "left": null,
            "margin": null,
            "max_height": null,
            "max_width": null,
            "min_height": null,
            "min_width": null,
            "object_fit": null,
            "object_position": null,
            "order": null,
            "overflow": null,
            "overflow_x": null,
            "overflow_y": null,
            "padding": null,
            "right": null,
            "top": null,
            "visibility": null,
            "width": null
          }
        }
      }
    }
  },
  "nbformat": 4,
  "nbformat_minor": 0
}
