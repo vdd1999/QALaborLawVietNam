{
  "cells": [
    {
      "cell_type": "code",
      "execution_count": null,
      "metadata": {
        "colab": {
          "base_uri": "https://localhost:8080/"
        },
        "id": "5_y-T9UF9wpc",
        "outputId": "aae2d981-272d-424b-c4a5-6f951de053ee"
      },
      "outputs": [
        {
          "name": "stdout",
          "output_type": "stream",
          "text": [
            "Requirement already satisfied: torch in /usr/local/lib/python3.10/dist-packages (2.3.0+cu121)\n",
            "Collecting underthesea\n",
            "  Downloading underthesea-6.8.4-py3-none-any.whl (20.9 MB)\n",
            "\u001b[2K     \u001b[90m━━━━━━━━━━━━━━━━━━━━━━━━━━━━━━━━━━━━━━━━\u001b[0m \u001b[32m20.9/20.9 MB\u001b[0m \u001b[31m21.5 MB/s\u001b[0m eta \u001b[36m0:00:00\u001b[0m\n",
            "\u001b[?25hCollecting rank_bm25\n",
            "  Downloading rank_bm25-0.2.2-py3-none-any.whl (8.6 kB)\n",
            "Requirement already satisfied: filelock in /usr/local/lib/python3.10/dist-packages (from torch) (3.15.4)\n",
            "Requirement already satisfied: typing-extensions>=4.8.0 in /usr/local/lib/python3.10/dist-packages (from torch) (4.12.2)\n",
            "Requirement already satisfied: sympy in /usr/local/lib/python3.10/dist-packages (from torch) (1.13.0)\n",
            "Requirement already satisfied: networkx in /usr/local/lib/python3.10/dist-packages (from torch) (3.3)\n",
            "Requirement already satisfied: jinja2 in /usr/local/lib/python3.10/dist-packages (from torch) (3.1.4)\n",
            "Requirement already satisfied: fsspec in /usr/local/lib/python3.10/dist-packages (from torch) (2023.6.0)\n",
            "Collecting nvidia-cuda-nvrtc-cu12==12.1.105 (from torch)\n",
            "  Using cached nvidia_cuda_nvrtc_cu12-12.1.105-py3-none-manylinux1_x86_64.whl (23.7 MB)\n",
            "Collecting nvidia-cuda-runtime-cu12==12.1.105 (from torch)\n",
            "  Using cached nvidia_cuda_runtime_cu12-12.1.105-py3-none-manylinux1_x86_64.whl (823 kB)\n",
            "Collecting nvidia-cuda-cupti-cu12==12.1.105 (from torch)\n",
            "  Using cached nvidia_cuda_cupti_cu12-12.1.105-py3-none-manylinux1_x86_64.whl (14.1 MB)\n",
            "Collecting nvidia-cudnn-cu12==8.9.2.26 (from torch)\n",
            "  Using cached nvidia_cudnn_cu12-8.9.2.26-py3-none-manylinux1_x86_64.whl (731.7 MB)\n",
            "Collecting nvidia-cublas-cu12==12.1.3.1 (from torch)\n",
            "  Using cached nvidia_cublas_cu12-12.1.3.1-py3-none-manylinux1_x86_64.whl (410.6 MB)\n",
            "Collecting nvidia-cufft-cu12==11.0.2.54 (from torch)\n",
            "  Using cached nvidia_cufft_cu12-11.0.2.54-py3-none-manylinux1_x86_64.whl (121.6 MB)\n",
            "Collecting nvidia-curand-cu12==10.3.2.106 (from torch)\n",
            "  Using cached nvidia_curand_cu12-10.3.2.106-py3-none-manylinux1_x86_64.whl (56.5 MB)\n",
            "Collecting nvidia-cusolver-cu12==11.4.5.107 (from torch)\n",
            "  Using cached nvidia_cusolver_cu12-11.4.5.107-py3-none-manylinux1_x86_64.whl (124.2 MB)\n",
            "Collecting nvidia-cusparse-cu12==12.1.0.106 (from torch)\n",
            "  Using cached nvidia_cusparse_cu12-12.1.0.106-py3-none-manylinux1_x86_64.whl (196.0 MB)\n",
            "Collecting nvidia-nccl-cu12==2.20.5 (from torch)\n",
            "  Using cached nvidia_nccl_cu12-2.20.5-py3-none-manylinux2014_x86_64.whl (176.2 MB)\n",
            "Collecting nvidia-nvtx-cu12==12.1.105 (from torch)\n",
            "  Using cached nvidia_nvtx_cu12-12.1.105-py3-none-manylinux1_x86_64.whl (99 kB)\n",
            "Requirement already satisfied: triton==2.3.0 in /usr/local/lib/python3.10/dist-packages (from torch) (2.3.0)\n",
            "Collecting nvidia-nvjitlink-cu12 (from nvidia-cusolver-cu12==11.4.5.107->torch)\n",
            "  Downloading nvidia_nvjitlink_cu12-12.5.82-py3-none-manylinux2014_x86_64.whl (21.3 MB)\n",
            "\u001b[2K     \u001b[90m━━━━━━━━━━━━━━━━━━━━━━━━━━━━━━━━━━━━━━━━\u001b[0m \u001b[32m21.3/21.3 MB\u001b[0m \u001b[31m20.8 MB/s\u001b[0m eta \u001b[36m0:00:00\u001b[0m\n",
            "\u001b[?25hRequirement already satisfied: Click>=6.0 in /usr/local/lib/python3.10/dist-packages (from underthesea) (8.1.7)\n",
            "Collecting python-crfsuite>=0.9.6 (from underthesea)\n",
            "  Downloading python_crfsuite-0.9.10-cp310-cp310-manylinux_2_17_x86_64.manylinux2014_x86_64.whl (1.1 MB)\n",
            "\u001b[2K     \u001b[90m━━━━━━━━━━━━━━━━━━━━━━━━━━━━━━━━━━━━━━━━\u001b[0m \u001b[32m1.1/1.1 MB\u001b[0m \u001b[31m6.6 MB/s\u001b[0m eta \u001b[36m0:00:00\u001b[0m\n",
            "\u001b[?25hRequirement already satisfied: nltk in /usr/local/lib/python3.10/dist-packages (from underthesea) (3.8.1)\n",
            "Requirement already satisfied: tqdm in /usr/local/lib/python3.10/dist-packages (from underthesea) (4.66.4)\n",
            "Requirement already satisfied: requests in /usr/local/lib/python3.10/dist-packages (from underthesea) (2.31.0)\n",
            "Requirement already satisfied: joblib in /usr/local/lib/python3.10/dist-packages (from underthesea) (1.4.2)\n",
            "Requirement already satisfied: scikit-learn in /usr/local/lib/python3.10/dist-packages (from underthesea) (1.2.2)\n",
            "Requirement already satisfied: PyYAML in /usr/local/lib/python3.10/dist-packages (from underthesea) (6.0.1)\n",
            "Collecting underthesea-core==1.0.4 (from underthesea)\n",
            "  Downloading underthesea_core-1.0.4-cp310-cp310-manylinux2010_x86_64.whl (657 kB)\n",
            "\u001b[2K     \u001b[90m━━━━━━━━━━━━━━━━━━━━━━━━━━━━━━━━━━━━━━━━\u001b[0m \u001b[32m657.8/657.8 kB\u001b[0m \u001b[31m33.1 MB/s\u001b[0m eta \u001b[36m0:00:00\u001b[0m\n",
            "\u001b[?25hRequirement already satisfied: numpy in /usr/local/lib/python3.10/dist-packages (from rank_bm25) (1.25.2)\n",
            "Requirement already satisfied: MarkupSafe>=2.0 in /usr/local/lib/python3.10/dist-packages (from jinja2->torch) (2.1.5)\n",
            "Requirement already satisfied: regex>=2021.8.3 in /usr/local/lib/python3.10/dist-packages (from nltk->underthesea) (2024.5.15)\n",
            "Requirement already satisfied: charset-normalizer<4,>=2 in /usr/local/lib/python3.10/dist-packages (from requests->underthesea) (3.3.2)\n",
            "Requirement already satisfied: idna<4,>=2.5 in /usr/local/lib/python3.10/dist-packages (from requests->underthesea) (3.7)\n",
            "Requirement already satisfied: urllib3<3,>=1.21.1 in /usr/local/lib/python3.10/dist-packages (from requests->underthesea) (2.0.7)\n",
            "Requirement already satisfied: certifi>=2017.4.17 in /usr/local/lib/python3.10/dist-packages (from requests->underthesea) (2024.7.4)\n",
            "Requirement already satisfied: scipy>=1.3.2 in /usr/local/lib/python3.10/dist-packages (from scikit-learn->underthesea) (1.11.4)\n",
            "Requirement already satisfied: threadpoolctl>=2.0.0 in /usr/local/lib/python3.10/dist-packages (from scikit-learn->underthesea) (3.5.0)\n",
            "Requirement already satisfied: mpmath<1.4,>=1.1.0 in /usr/local/lib/python3.10/dist-packages (from sympy->torch) (1.3.0)\n",
            "Installing collected packages: underthesea-core, python-crfsuite, rank_bm25, nvidia-nvtx-cu12, nvidia-nvjitlink-cu12, nvidia-nccl-cu12, nvidia-curand-cu12, nvidia-cufft-cu12, nvidia-cuda-runtime-cu12, nvidia-cuda-nvrtc-cu12, nvidia-cuda-cupti-cu12, nvidia-cublas-cu12, nvidia-cusparse-cu12, nvidia-cudnn-cu12, underthesea, nvidia-cusolver-cu12\n",
            "Successfully installed nvidia-cublas-cu12-12.1.3.1 nvidia-cuda-cupti-cu12-12.1.105 nvidia-cuda-nvrtc-cu12-12.1.105 nvidia-cuda-runtime-cu12-12.1.105 nvidia-cudnn-cu12-8.9.2.26 nvidia-cufft-cu12-11.0.2.54 nvidia-curand-cu12-10.3.2.106 nvidia-cusolver-cu12-11.4.5.107 nvidia-cusparse-cu12-12.1.0.106 nvidia-nccl-cu12-2.20.5 nvidia-nvjitlink-cu12-12.5.82 nvidia-nvtx-cu12-12.1.105 python-crfsuite-0.9.10 rank_bm25-0.2.2 underthesea-6.8.4 underthesea-core-1.0.4\n"
          ]
        }
      ],
      "source": [
        "pip install torch underthesea rank_bm25"
      ]
    },
    {
      "cell_type": "code",
      "execution_count": 15,
      "metadata": {
        "colab": {
          "base_uri": "https://localhost:8080/"
        },
        "id": "Z1Bns0GTN_Uj",
        "outputId": "bcc11a21-7e07-4dd2-9c98-d368e89ea20e"
      },
      "outputs": [
        {
          "name": "stdout",
          "output_type": "stream",
          "text": [
            "Collecting rank_bm25\n",
            "  Downloading rank_bm25-0.2.2-py3-none-any.whl (8.6 kB)\n",
            "Requirement already satisfied: numpy in /usr/local/lib/python3.10/dist-packages (from rank_bm25) (1.25.2)\n",
            "Installing collected packages: rank_bm25\n",
            "Successfully installed rank_bm25-0.2.2\n"
          ]
        }
      ],
      "source": [
        "pip install rank_bm25"
      ]
    },
    {
      "cell_type": "code",
      "execution_count": 1,
      "metadata": {
        "id": "xj2v6oKkJlcR"
      },
      "outputs": [],
      "source": [
        "import json\n",
        "import os\n",
        "import re\n",
        "import numpy as np\n",
        "import torch\n"
      ]
    },
    {
      "cell_type": "code",
      "execution_count": 2,
      "metadata": {
        "id": "TZ93_wy2pq5X"
      },
      "outputs": [],
      "source": [
        "def load_all_data(input_file):\n",
        "    with open(input_file, 'r', encoding='utf-8') as f:\n",
        "      data = json.load(f)\n",
        "    return data"
      ]
    },
    {
      "cell_type": "markdown",
      "metadata": {
        "id": "ahiia4dHP6Y0"
      },
      "source": [
        "# Mục mới"
      ]
    },
    {
      "cell_type": "code",
      "execution_count": 3,
      "metadata": {
        "id": "OkVGeltL31R3"
      },
      "outputs": [],
      "source": [
        "\n",
        "def clean_text(text):\n",
        "    text = re.sub(r'\\n', ' ', text)\n",
        "    text = re.sub(r'\\[\\d+\\]', '', text)\n",
        "    text = re.sub(r'[^\\w\\s]', '', text)\n",
        "    text = text.lower()\n",
        "    return text"
      ]
    },
    {
      "cell_type": "code",
      "execution_count": 4,
      "metadata": {
        "id": "cySWbxOM6IwS"
      },
      "outputs": [],
      "source": [
        "def preprocess_data(data):\n",
        "    contexts = []\n",
        "    contextRaws = []\n",
        "    questions = []\n",
        "    answers = []\n",
        "    questionRaws = []\n",
        "    for dataSquad in data:\n",
        "      for article in dataSquad['data']:\n",
        "          for paragraph in article['paragraphs']:\n",
        "              context = clean_text(paragraph['context'])\n",
        "              for qa in paragraph['qas']:\n",
        "                  question = clean_text(qa['question'])\n",
        "                  is_impossible = qa.get('is_impossible', False)  #Do ngữ liệu nhiều chỗ define thiếu is_impossible nên sẽ mặc định là False\n",
        "                  if not is_impossible:\n",
        "                      for answer in qa['answers']:\n",
        "                          answer_text = clean_text(answer['text'])\n",
        "                          answer_start = answer['answer_start']\n",
        "                          contexts.append(context)\n",
        "                          contextRaws.append(paragraph['context'])\n",
        "                          questions.append(question)\n",
        "                          questionRaws.append(qa['question'])\n",
        "                          answers.append({\n",
        "                              'text': answer_text,\n",
        "                              'start': answer_start\n",
        "                          })\n",
        "    return contexts, questions, answers, contextRaws, questionRaws"
      ]
    },
    {
      "cell_type": "code",
      "execution_count": 5,
      "metadata": {
        "id": "pMIsG5kOKBRH"
      },
      "outputs": [],
      "source": [
        "def tokenize_texts(texts):\n",
        " return [text.split() for text in texts]"
      ]
    },
    {
      "cell_type": "markdown",
      "metadata": {
        "id": "3FwAGuM5tau0"
      },
      "source": []
    },
    {
      "cell_type": "code",
      "execution_count": 6,
      "metadata": {
        "id": "dyBQdxTZKDur"
      },
      "outputs": [],
      "source": [
        "data_path = '/content/data/squad_2.0.json'\n",
        "squad_data = load_all_data(data_path)\n",
        "contexts, questions, answers, contextRaws, questionRaws = preprocess_data(squad_data)\n",
        "tokenized_contexts = tokenize_texts(contexts)\n",
        "tokenized_questions = tokenize_texts(questions)"
      ]
    },
    {
      "cell_type": "code",
      "execution_count": null,
      "metadata": {
        "id": "07Z3kZutCtMg"
      },
      "outputs": [],
      "source": [
        "tokenized_questions[:100]"
      ]
    },
    {
      "cell_type": "code",
      "execution_count": 7,
      "metadata": {
        "colab": {
          "base_uri": "https://localhost:8080/"
        },
        "id": "7XsvYGi49-Kq",
        "outputId": "db45f9a5-ec72-4a3a-8823-cebd7eca1de6"
      },
      "outputs": [
        {
          "name": "stdout",
          "output_type": "stream",
          "text": [
            "Requirement already satisfied: gensim in /usr/local/lib/python3.10/dist-packages (4.3.2)\n",
            "Requirement already satisfied: numpy>=1.18.5 in /usr/local/lib/python3.10/dist-packages (from gensim) (1.25.2)\n",
            "Requirement already satisfied: scipy>=1.7.0 in /usr/local/lib/python3.10/dist-packages (from gensim) (1.11.4)\n",
            "Requirement already satisfied: smart-open>=1.8.1 in /usr/local/lib/python3.10/dist-packages (from gensim) (7.0.4)\n",
            "Requirement already satisfied: wrapt in /usr/local/lib/python3.10/dist-packages (from smart-open>=1.8.1->gensim) (1.14.1)\n"
          ]
        }
      ],
      "source": [
        "pip install gensim"
      ]
    },
    {
      "cell_type": "code",
      "execution_count": 8,
      "metadata": {
        "id": "7MCniQGRRK93"
      },
      "outputs": [],
      "source": [
        "from gensim.models import Word2Vec\n",
        "from gensim.utils import simple_preprocess\n"
      ]
    },
    {
      "cell_type": "markdown",
      "metadata": {
        "id": "r517mQU9kMZR"
      },
      "source": []
    },
    {
      "cell_type": "code",
      "execution_count": 9,
      "metadata": {
        "id": "V_FWej1tRTdZ"
      },
      "outputs": [],
      "source": [
        "# Tạo mô hình Word2Vec\n",
        "model_word2vec_context = Word2Vec(vector_size=100, window=10, min_count=1, sg=1, workers=4)\n",
        "model_word2vec_question = Word2Vec(vector_size=100, window=10, min_count=1, sg=1, workers=4)"
      ]
    },
    {
      "cell_type": "code",
      "execution_count": 10,
      "metadata": {
        "id": "WEMfTd3LtvKj"
      },
      "outputs": [],
      "source": [
        "# Xây dựng từ điển\n",
        "model_word2vec_context.build_vocab(tokenized_contexts)\n",
        "# Xây dựng từ điển cho câu hỏi\n",
        "model_word2vec_question.build_vocab(tokenized_questions)"
      ]
    },
    {
      "cell_type": "code",
      "execution_count": 11,
      "metadata": {
        "colab": {
          "base_uri": "https://localhost:8080/"
        },
        "id": "60ATl10yu3NT",
        "outputId": "bf5785cc-6512-45dd-d876-5e3327a4baf7"
      },
      "outputs": [
        {
          "data": {
            "text/plain": [
              "(2702269, 3854400)"
            ]
          },
          "execution_count": 11,
          "metadata": {},
          "output_type": "execute_result"
        }
      ],
      "source": [
        "model_word2vec_context.train(tokenized_contexts, total_examples=model_word2vec_context.corpus_count, epochs=200)"
      ]
    },
    {
      "cell_type": "code",
      "execution_count": 12,
      "metadata": {
        "colab": {
          "base_uri": "https://localhost:8080/"
        },
        "id": "6ocZOeD6TZsg",
        "outputId": "be4294db-83a4-428b-cd02-748f62a0450b"
      },
      "outputs": [
        {
          "data": {
            "text/plain": [
              "(2750041, 4026400)"
            ]
          },
          "execution_count": 12,
          "metadata": {},
          "output_type": "execute_result"
        }
      ],
      "source": [
        "model_word2vec_question.train(tokenized_questions, total_examples=model_word2vec_question.corpus_count, epochs=200)"
      ]
    },
    {
      "cell_type": "code",
      "execution_count": 13,
      "metadata": {
        "id": "clbXlmB1RZEQ"
      },
      "outputs": [],
      "source": [
        "# Lưu mô hình Word2Vec đã huấn luyện\n",
        "model_word2vec_context.save(\"/content/model_word2vec_context.model\")\n",
        "model_word2vec_question.save(\"/content/model_word2vec_question.model\")"
      ]
    },
    {
      "cell_type": "code",
      "execution_count": 16,
      "metadata": {
        "id": "mLtaWHu6QamW"
      },
      "outputs": [],
      "source": [
        "from rank_bm25 import BM25Okapi\n",
        "\n",
        "# Tạo BM25 model\n",
        "bm25 = BM25Okapi(tokenized_contexts)\n",
        "bm25Questions = BM25Okapi(tokenized_questions)"
      ]
    },
    {
      "cell_type": "code",
      "execution_count": 17,
      "metadata": {
        "id": "jKCTsQdITrgU"
      },
      "outputs": [],
      "source": [
        "# Changed\n",
        "def get_avg_word2vec_vector(user_question, model_word2vec):\n",
        "    words = user_question\n",
        "    word_vectors = [model_word2vec.wv[word] for word in words if word in model_word2vec.wv]\n",
        "    if not word_vectors:\n",
        "        return np.zeros(model_word2vec.vector_size)\n",
        "    return np.mean(word_vectors, axis=0)"
      ]
    },
    {
      "cell_type": "code",
      "execution_count": 18,
      "metadata": {
        "id": "b5KLEP8vuACC"
      },
      "outputs": [],
      "source": [
        "# Changed\n",
        "\n",
        "def get_word2vec_scores(user_question, datas, model_word2vec):\n",
        "    query_vector = get_avg_word2vec_vector(user_question, model_word2vec)\n",
        "    scores = []\n",
        "    for data in datas:\n",
        "        data_vector = get_avg_word2vec_vector(simple_preprocess(data), model_word2vec)\n",
        "        score = np.dot(query_vector, data_vector)\n",
        "        if np.isnan(score):\n",
        "            score = 0\n",
        "        scores.append(score)\n",
        "    return np.array(scores)"
      ]
    },
    {
      "cell_type": "code",
      "execution_count": 19,
      "metadata": {
        "id": "pfgzTESCUSac"
      },
      "outputs": [],
      "source": [
        "# Added\n",
        "def get_bm25_scores(user_question, bm25_model):\n",
        "    bm_25_score = bm25_model.get_scores(user_question)\n",
        "    scores = (bm_25_score - np.min(bm_25_score)) / (np.max(bm_25_score) - np.min(bm_25_score))\n",
        "    # Thay thế giá trị nan bằng 0\n",
        "    scores = np.nan_to_num(scores)\n",
        "    return scores"
      ]
    },
    {
      "cell_type": "code",
      "execution_count": 20,
      "metadata": {
        "id": "y8VZ03K0UVHb"
      },
      "outputs": [],
      "source": [
        "# Added\n",
        "def get_combined_scores(user_question, datas, model_word2vec, bm25_model):\n",
        "    tokenized_query = user_question.split()\n",
        "    word2vec_scores = get_word2vec_scores(tokenized_query, datas, model_word2vec)\n",
        "    bm25_scores = get_bm25_scores(tokenized_query, bm25_model)\n",
        "    word2vec_scores = (word2vec_scores - np.min(word2vec_scores)) / (np.max(word2vec_scores) - np.min(word2vec_scores))\n",
        "    combined_scores = word2vec_scores + bm25_scores\n",
        "    # Thay thế giá trị nan bằng 0 trong combined_scores\n",
        "    combined_scores = np.nan_to_num(combined_scores)\n",
        "    return combined_scores"
      ]
    },
    {
      "cell_type": "code",
      "execution_count": 21,
      "metadata": {
        "colab": {
          "base_uri": "https://localhost:8080/"
        },
        "id": "glR2HPArU377",
        "outputId": "8895dba3-67e9-4fde-936a-846ae8037b45"
      },
      "outputs": [
        {
          "name": "stdout",
          "output_type": "stream",
          "text": [
            "Closest Questions: ('Sinh viên tuyển sinh năm 2017 sử dụng quy chế tín chỉ nào số quyết định bao nhiêu?', 'Đối với khóa tuyển sinh từ năm 2016 trở về trước áp dụng theo Quy chế đào tạo theo hệ thống tín chỉ của Trường được ban hành theo Quyết định số 46/QĐ-DCT ngày 12/01/2016 của Hiệu trưởng Trường Đại học Công nghiệp Thực phẩm Tp. Hồ Chí Minh. Đối với khóa tuyển sinh từ năm 2017, 2018, 2019 áp dụng theo Quy chế đào tạo theo hệ thống tín chỉ của Trường được ban hành theo Quyết định số 1603/QĐ-DCT ngày 23/08/2017 của Hiệu trưởng Trường Đại học Công nghiệp Thực phẩm Tp. Hồ Chí Minh. Đối với khóa tuyển sinh năm 2020 áp dụng theo quy chế đào tạo theo hệ thống tín chỉ của Trường được ban hành theo Quyết định 2474/QĐ-DCT ngày 14/10/2020 của Hiệu trưởng Trường Đại học Công nghiệp Thực phẩm Tp. Hồ Chí Minh. Đối với khóa tuyển sinh từ năm 2021 trở đi áp dụng theo Quy chế đào tạo theo hệ thống tín chỉ của Trường được ban hành theo Quyết định số 1846/QĐ-DCT ngày 01/9/2021 của Hiệu trưởng Trường Đại học Công nghiệp Thực phẩm Tp. Hồ Chí Minh.', {'text': 'đối với khóa tuyển sinh từ năm 2017 áp dụng theo quy chế đào tạo theo hệ thống tín chỉ của trường được ban hành theo quyết định số 1603qđdct ngày 23082017 của hiệu trưởng trường đại học công nghiệp thực phẩm tp hồ chí minh', 'start': None})\n"
          ]
        }
      ],
      "source": [
        "def find_best_matching_question(user_question, questions, contextRaws, questionRaws):\n",
        "    combined_scores = get_combined_scores(user_question, questions, model_word2vec_question, bm25Questions)\n",
        "    if np.all(combined_scores == 0):\n",
        "        return \"Không có câu hỏi được tìm thấy\"\n",
        "    best_match_idx = np.argmax(combined_scores)\n",
        "    return questionRaws[best_match_idx], contextRaws[best_match_idx], answers[best_match_idx]\n",
        "\n",
        "user_question = \"người sử dụng lao động cần làm gì về bảo hiểm xã hội\"\n",
        "closest_questions = find_best_matching_question(user_question, questions, contextRaws, questionRaws)\n",
        "print(f\"Closest Questions: {closest_questions}\")"
      ]
    },
    {
      "cell_type": "code",
      "execution_count": 22,
      "metadata": {
        "colab": {
          "base_uri": "https://localhost:8080/"
        },
        "id": "y8q0YGK5X8K5",
        "outputId": "d4f4bf8c-5dd7-4cdc-b787-6e0e0495844b"
      },
      "outputs": [
        {
          "name": "stdout",
          "output_type": "stream",
          "text": [
            "Closest Questions: chuẩn đầu ra là yêu cầu tối thiểu về kiến thức kỹ năng thái độ trách nhiệm nghề nghiệp mà người học đạt được sau khi hoàn thành chương trình đào tạo được cơ sở đào tạo cam kết và người học xã hội và công bố công khai cùng với các điều kiện đảm bảo thực hiện chuẩn đầu ra của một chương trình đào tạo được tham chiếu theo khung trình độ quốc gia việt nam các quy định của bộ giáo dục và đào tạo và đảm bảo yếu tố hội nhập khu vực thế giới\n"
          ]
        }
      ],
      "source": [
        "def find_best_matching_context(user_question, contexts):\n",
        "    combined_scores = get_combined_scores(user_question, contexts, model_word2vec_context, bm25)\n",
        "    if np.all(combined_scores == 0):\n",
        "        return \"Không có câu hỏi được tìm thấy\"\n",
        "    best_match_idx = np.argmax(combined_scores)\n",
        "    return contexts[best_match_idx]\n",
        "\n",
        "user_question = \"Người sử dụng lao động phải làm gì về bảo hiểm xã hội\"\n",
        "closest_questions = find_best_matching_context(user_question, contexts)\n",
        "print(f\"Closest Questions: {closest_questions}\")"
      ]
    },
    {
      "cell_type": "code",
      "execution_count": 23,
      "metadata": {
        "id": "N-lsQHp_KOH3"
      },
      "outputs": [],
      "source": [
        "from transformers import AutoTokenizer, AutoModelForQuestionAnswering\n",
        "import torch"
      ]
    },
    {
      "cell_type": "code",
      "execution_count": 24,
      "metadata": {
        "colab": {
          "base_uri": "https://localhost:8080/"
        },
        "id": "X80EKItdK8kV",
        "outputId": "91d51034-233c-4340-e34a-edc4d5c249b8"
      },
      "outputs": [
        {
          "name": "stdout",
          "output_type": "stream",
          "text": [
            "Mounted at /content/drive\n"
          ]
        }
      ],
      "source": [
        "from google.colab import drive\n",
        "drive.mount('/content/drive')"
      ]
    },
    {
      "cell_type": "code",
      "execution_count": 25,
      "metadata": {
        "id": "eRTsUl8lK4zX"
      },
      "outputs": [],
      "source": [
        "path = \"/content/drive/MyDrive/model_giaoduc\""
      ]
    },
    {
      "cell_type": "code",
      "execution_count": 26,
      "metadata": {
        "id": "J0o3gFFcKLTP"
      },
      "outputs": [],
      "source": [
        "# Tải mô hình phoBERT\n",
        "tokenizer = AutoTokenizer.from_pretrained(path)\n",
        "model = AutoModelForQuestionAnswering.from_pretrained(path)\n"
      ]
    },
    {
      "cell_type": "code",
      "execution_count": 27,
      "metadata": {
        "id": "KPQvPikPNkC1"
      },
      "outputs": [],
      "source": [
        "def get_answer(question):\n",
        "    bestQuestion, contextMatch, answerMatch =find_best_matching_question(question, questions, contextRaws, questionRaws)\n",
        "    inputs = tokenizer(bestQuestion.lower(), contextMatch, return_tensors=\"pt\",max_length=128, padding=\"max_length\", truncation=\"only_second\")\n",
        "    with torch.no_grad():\n",
        "        outputs = model(**inputs)\n",
        "    answer_start_index = outputs.start_logits.argmax()\n",
        "    answer_end_index = outputs.end_logits.argmax()\n",
        "    predict_answer_tokens = inputs.input_ids[0, answer_start_index : answer_end_index + 1]\n",
        "    print(\"Context: \" + contextMatch + \"\\n\")\n",
        "    print(\"Question \" + bestQuestion+ \"\\n\")\n",
        "    answer_result = tokenizer.decode(predict_answer_tokens)\n",
        "\n",
        "    if len(answerMatch['text'].strip()) > len(answer_result.strip()):\n",
        "        print(\"Answer: \" + answerMatch['text'] + \"\\n\")\n",
        "    elif(tokenizer.decode(predict_answer_tokens) == \"\"):\n",
        "        print(\"Answer: Chưa thể tìm thấy câu trả lời \\n\")\n",
        "    else:\n",
        "        print(\"Answer: \" + tokenizer.decode(predict_answer_tokens)+ \"\\n\")\n"
      ]
    },
    {
      "cell_type": "code",
      "execution_count": 28,
      "metadata": {
        "colab": {
          "base_uri": "https://localhost:8080/"
        },
        "id": "l7qc4cxJwKUR",
        "outputId": "f8563b4a-6269-46ac-bfbe-829c2ce476f7"
      },
      "outputs": [
        {
          "name": "stdout",
          "output_type": "stream",
          "text": [
            "Input context: \n",
            "Trường Đại học Công nghiệp Thực phẩm Thành phố Hồ Chí Minh nay có tên là gì\n",
            "Context: chào em; nếu em muốn chuyển ngành từ CN Thực phẩm sang CN Hóa; em làm đơn xin chuyển ngành theo mẫu http://sinhvien.hufi.edu.vn/NewsDetail.aspx?NewsID=19; nộp về Phòng đào tạo trước khi đăng ký môn học đk học ngành mới em nha\n",
            "\n",
            "Question Em đổi ngành thực phẩm sang ngành hóa học á cô ơi\n",
            "\n",
            "Answer: chào em nếu em muốn chuyển ngành từ cn thực phẩm sang cn hóa em làm đơn xin chuyển ngành theo mẫu httpsinhvienhufieduvnnewsdetailaspxnewsid19 nộp về phòng đào tạo trước khi đăng ký môn học đk học ngành mới em nha\n",
            "\n",
            "Input context: \n",
            "Sau khi rút môn học thì sinh viên có phải đi học môn học đã rút không\n",
            "Context: Người học chỉ được phép rút bớt học phần đã đăng ký: Thời gian rút học phần: trong 02 tuần (từ tuần thứ 03 đến tuần thứ 04 đối với học kỳ chính); trong 01 tuần (tuần thứ 02 đối với học kỳ hè). Môn học được rút sẽ được xóa thời khóa biểu, xóa tên trong danh sách lớp, không tính vào số tín chỉ đăng ký, không ghi trong bảng điểm trong hệ thống. Ngoài thời hạn trên học phần vẫn được giữ nguyên theo kết quả đăng ký học và nếu người học không đi học sẽ được xem như tự ý bỏ học, bị điểm F học phần đó. Trước khi rút học phần, người học phải hoàn thành học phí của học phần đó và không được hoàn trả học phí học phần đã rút. Trường hợp do hoàn cảnh gia đình bị thiên tai, tai nạn đặc biệt; Thủ tục xin rút học phần đã đăng ký: Trong thời gian được rút học phần, người học đăng nhập vào tài khoản của cá nhân tại trang cổng thông tin sinh viên để rút bớt học phần đã đăng ký (sau khi đã hoàn thành học phí).\n",
            "\n",
            "Question Đóng học phí trước khi rút môn học hay sau khi rút môn học?\n",
            "\n",
            "Answer: Người học chỉ được phép rút bớt học\n",
            "\n",
            "Input context: \n",
            "đến năm thứ 4 vẫn chưa có bằng av thì sao\n",
            "Context: chào em; đối với khóa của em thì không được chuyển ngành em nhé!\n",
            "\n",
            "Question Dạ cho em hỏi nếu như đến năm 4 mình vẫn chưa có bằng av thì có được xét để làm lễ tốt nghiệp không ạ\n",
            "\n",
            "Answer: vẫn được xét tốt nghiệp em nhé khi nào có chứng chỉ thì mới được lấy bằng chính thức\n",
            "\n",
            "Input context: \n",
            "mong thầy cô cập nhật kết quả học tập ạ\n",
            "Context: Chào em; hiện nay do quy ước điểm của các chương trình có yếu tố nước ngoài khác với hệ thống của Trường (do phải theo quy định của đối tác nước ngoài) nên sinh viên liên hệ trực tiếp đến Viện ĐT&HTQT (cô Ngà) để cập nhật điểm nhé\n",
            "\n",
            "Question Mong quý thầy cô cập nhật kết quả học tập ạ.\n",
            "\n",
            "Answer: chào em hiện nay do quy ước điểm của các chương trình có yếu tố nước ngoài khác với hệ thống của trường do phải theo quy định của đối tác nước ngoài nên sinh viên liên hệ trực tiếp đến viện đthtqt cô ngà để cập nhật điểm nhé\n",
            "\n",
            "Input context: \n",
            "Em bị nhập nhầm điểm cho em xin gmail thầy Phan xuân khánh dạy quốc phòng 2\n",
            "Context: Chào em; hiện nay do quy ước điểm của các chương trình có yếu tố nước ngoài khác với hệ thống của Trường (do phải theo quy định của đối tác nước ngoài) nên sinh viên liên hệ trực tiếp đến Viện ĐT&HTQT (cô Ngà) để cập nhật điểm nhé\n",
            "\n",
            "Question Em bị nhập nhầm điểm cho em xin gmail thầy Phan xuân khánh dạy quốc phòng 2 ạ\n",
            "\n",
            "Answer: Chào em; hiện nay do quy ước điểm của các chương trình có yếu tố nước ngoài khác với hệ thống của Trường\n",
            "\n",
            "Input context: \n",
            "nếu học 4 năm đại học mình vẫn chưa có bằng anh văn toiec thì mình sẽ lấy bằng tạm tthoi trước hay sao \n",
            "Context: chào em; nếu em được tốt nghiệp; chưa có các chứng chỉ vẫn được lấy bằng tạm thời nhé\n",
            "\n",
            "Question Dạ cho em hỏi là nếu học 4 năm đại học mình vẫn chưa có bằng anh văn toiec thì mình sẽ lấy bằng tạm tthoi trước hay sao ạ \n",
            "\n",
            "Answer: chào em; nếu em được tốt nghiệp; chưa có các chứng chỉ vẫn được lấy bằng tạm thời nhé </s>\n",
            "\n",
            "Input context: \n",
            "Dạ em chào thầy cô ạ. E là sinh viên khoá 06. Do 1 số sai sót nên môn Thí nghiệm vật lý e chưa đăng kí học phần. Dạ thầy cô có thể cho e biết được môn học phần tương đương của môn này không ạ. E cảm ơn ạ\n",
            "Context: Học phần tương đương khi học phần A gọi là tương đương với học phần B khi hai học phần này có nội dung tương đồng hoặc cùng có chuẩn đầu ra đáp ứng yêu cầu về chauarn đầu ra của chương trình đào tạo, theo các tiêu chí do khoa quản lý hoặc bộ môn phụ trách xác định. Về số tín chỉ, học phần tương đương có thể khác nhau. Trường hợp học phần tương đương có số tín chỉ ít hơn học phần cũ thì người học phải học thêm các  học phần khác để đảm bảo tích lũy đủ số tín chỉ theo quy định của chương trình đào tạo khóa – ngành; Học phần thay thế là học phần do Bộ môn chỉ định cho người học học thay thế trong các trường hợp học phần cũ không còn tổ chức giảng dạy nữa, hoặc học phần vẫn còn trong chương trình đào tạo nhưng không được mở vào học kỳ cuối cùng đối với người học được phép học trả nợ, hoặc học phần nào ở bậc cao hơn có thể thay thế cho học phần dành riêng cho bậc học thấp hơn, hoặc khi người học học phần có nội dung bao gồm nhiều học phần có thể chỉ định thay thế cho các học phần tương ứng. Học phần thay tế có số tín chỉ ít hơn học phần cũ thì người học phải học thêm các học phần khác để đảm bảo tích lũy đủ số tín chỉ theo quy định của chương trình đào tạo khóa – ngành.\n",
            "\n",
            "Question Trường hợp sinh viên học học phần tương đương có số tín chỉ ít hơn môn cũ thì xử lý như thế nào?\n",
            "\n",
            "Answer: Học phần tương đương khi học phần A gọi là tương đương với học phần B khi hai học phần này có nội dung tương đồng hoặc cùng có chuẩn đầu ra đáp ứng yêu cầu về chauarn đầu ra của chương trình đào tạ\n",
            "\n",
            "Input context: \n",
            "E là sinh viên 17cđqt3,cho e hỏi thực tập là bắt buộc đăng kí chung với lớp mình học hay sao\n",
            "Context: Học phần bắt buộc là các học phần chứa đựng những nội dung kiến thức chính yếu của mỗi chương trình đào tạo và bắt buộc người học phải tích lũy đạt yêu cầu để được xét tốt nghiệp; Học phần tự chọn là học phần chứa đựng những nội dung kiến thức cần thiết, nhưng người học được tự chọn theo hướng dẫn của Trường nhằm đa dạng hóa hướng chuyên môn hoặc được tự chọn tùy ý để tích lũy đủ số học phần quy định cho mỗi chương trình. Học phần tự chọn được xếp theo từng nhóm với các quy định riêng liên quan. Để đủ điều kiện tốt nghiệp, người học phải hoàn tất, đạt yêu cầu một số học phần nhất định trong từng nhóm nhằm tích lũy đủ số tín chỉ tối thiểu quy định cho nhóm học phần tự chọn tương ứng. Đối với học phần tự chọn, nếu không đạt người học có quyền chọn đăng ký học lại chính học phần đó hoặc lựa chọn các học phần tự chọn khác cùng nhóm nhằm dảm bảo tích lũy đủ số tín chỉ quy định cho nhóm tự chọn. Người học không nhất thiết học lại học phần tự chọn chưa đạt nếu đã tích lũy đủ số tín chỉ của nhóm.\n",
            "\n",
            "Question Học phần bắt buộc là gì?\n",
            "\n",
            "Answer: Học phần bắt buộc là các học phần chứa đựng những nội dung kiến thức chính yếu của mỗi chương trình đào tạo và bắt buộc người học phải tích lũy đạt yêu cầu để được xét tốt nghiệp; Học phần tự chọn là học phần chứa đựng những nội dung kiến thức cần thiết, nhưng người học được tự chọn theo hướng dẫn của Trường\n",
            "\n",
            "Input context: \n",
            "ok\n"
          ]
        }
      ],
      "source": [
        "while(True):\n",
        "    inputQuestion = input(\"Input context: \\n\")\n",
        "    if (inputQuestion.lower() == \"ok\"):\n",
        "        break\n",
        "    get_answer(inputQuestion)"
      ]
    }
  ],
  "metadata": {
    "colab": {
      "provenance": []
    },
    "kernelspec": {
      "display_name": "Python 3",
      "name": "python3"
    },
    "language_info": {
      "name": "python"
    }
  },
  "nbformat": 4,
  "nbformat_minor": 0
}
